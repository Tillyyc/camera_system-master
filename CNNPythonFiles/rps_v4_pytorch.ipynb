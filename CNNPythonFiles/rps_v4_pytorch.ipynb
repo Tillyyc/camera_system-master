{
  "nbformat": 4,
  "nbformat_minor": 0,
  "metadata": {
    "colab": {
      "provenance": []
    },
    "kernelspec": {
      "name": "python3",
      "display_name": "Python 3"
    },
    "language_info": {
      "name": "python"
    },
    "widgets": {
      "application/vnd.jupyter.widget-state+json": {
        "8c3b9b8a5aee4fd191372aa68ea02fbf": {
          "model_module": "@jupyter-widgets/controls",
          "model_name": "HBoxModel",
          "model_module_version": "1.5.0",
          "state": {
            "_dom_classes": [],
            "_model_module": "@jupyter-widgets/controls",
            "_model_module_version": "1.5.0",
            "_model_name": "HBoxModel",
            "_view_count": null,
            "_view_module": "@jupyter-widgets/controls",
            "_view_module_version": "1.5.0",
            "_view_name": "HBoxView",
            "box_style": "",
            "children": [
              "IPY_MODEL_80fa4b04686443128e936aa07c98940c",
              "IPY_MODEL_7c2cd65ada3047999b231b3fb8e2ed74",
              "IPY_MODEL_61616005ba5f4ec89a212c53ee318342"
            ],
            "layout": "IPY_MODEL_25f4ebc8bef1413983781c04d6d6eabd"
          }
        },
        "80fa4b04686443128e936aa07c98940c": {
          "model_module": "@jupyter-widgets/controls",
          "model_name": "HTMLModel",
          "model_module_version": "1.5.0",
          "state": {
            "_dom_classes": [],
            "_model_module": "@jupyter-widgets/controls",
            "_model_module_version": "1.5.0",
            "_model_name": "HTMLModel",
            "_view_count": null,
            "_view_module": "@jupyter-widgets/controls",
            "_view_module_version": "1.5.0",
            "_view_name": "HTMLView",
            "description": "",
            "description_tooltip": null,
            "layout": "IPY_MODEL_9c0750fd076146789beac59b6a109f02",
            "placeholder": "​",
            "style": "IPY_MODEL_661a1502f7204e84b230e8fc7f213843",
            "value": "Dl Completed...: 100%"
          }
        },
        "7c2cd65ada3047999b231b3fb8e2ed74": {
          "model_module": "@jupyter-widgets/controls",
          "model_name": "FloatProgressModel",
          "model_module_version": "1.5.0",
          "state": {
            "_dom_classes": [],
            "_model_module": "@jupyter-widgets/controls",
            "_model_module_version": "1.5.0",
            "_model_name": "FloatProgressModel",
            "_view_count": null,
            "_view_module": "@jupyter-widgets/controls",
            "_view_module_version": "1.5.0",
            "_view_name": "ProgressView",
            "bar_style": "success",
            "description": "",
            "description_tooltip": null,
            "layout": "IPY_MODEL_422570656b1a474a88db1e5b36526dec",
            "max": 1,
            "min": 0,
            "orientation": "horizontal",
            "style": "IPY_MODEL_629ae84e3dc34a138e8474fd64855111",
            "value": 1
          }
        },
        "61616005ba5f4ec89a212c53ee318342": {
          "model_module": "@jupyter-widgets/controls",
          "model_name": "HTMLModel",
          "model_module_version": "1.5.0",
          "state": {
            "_dom_classes": [],
            "_model_module": "@jupyter-widgets/controls",
            "_model_module_version": "1.5.0",
            "_model_name": "HTMLModel",
            "_view_count": null,
            "_view_module": "@jupyter-widgets/controls",
            "_view_module_version": "1.5.0",
            "_view_name": "HTMLView",
            "description": "",
            "description_tooltip": null,
            "layout": "IPY_MODEL_2cb3104c3cb24f0ba34705a2127e22bb",
            "placeholder": "​",
            "style": "IPY_MODEL_ad63a89eafbd41a09549b0a1e82d5723",
            "value": " 2/2 [00:10&lt;00:00,  5.88s/ url]"
          }
        },
        "25f4ebc8bef1413983781c04d6d6eabd": {
          "model_module": "@jupyter-widgets/base",
          "model_name": "LayoutModel",
          "model_module_version": "1.2.0",
          "state": {
            "_model_module": "@jupyter-widgets/base",
            "_model_module_version": "1.2.0",
            "_model_name": "LayoutModel",
            "_view_count": null,
            "_view_module": "@jupyter-widgets/base",
            "_view_module_version": "1.2.0",
            "_view_name": "LayoutView",
            "align_content": null,
            "align_items": null,
            "align_self": null,
            "border": null,
            "bottom": null,
            "display": null,
            "flex": null,
            "flex_flow": null,
            "grid_area": null,
            "grid_auto_columns": null,
            "grid_auto_flow": null,
            "grid_auto_rows": null,
            "grid_column": null,
            "grid_gap": null,
            "grid_row": null,
            "grid_template_areas": null,
            "grid_template_columns": null,
            "grid_template_rows": null,
            "height": null,
            "justify_content": null,
            "justify_items": null,
            "left": null,
            "margin": null,
            "max_height": null,
            "max_width": null,
            "min_height": null,
            "min_width": null,
            "object_fit": null,
            "object_position": null,
            "order": null,
            "overflow": null,
            "overflow_x": null,
            "overflow_y": null,
            "padding": null,
            "right": null,
            "top": null,
            "visibility": null,
            "width": null
          }
        },
        "9c0750fd076146789beac59b6a109f02": {
          "model_module": "@jupyter-widgets/base",
          "model_name": "LayoutModel",
          "model_module_version": "1.2.0",
          "state": {
            "_model_module": "@jupyter-widgets/base",
            "_model_module_version": "1.2.0",
            "_model_name": "LayoutModel",
            "_view_count": null,
            "_view_module": "@jupyter-widgets/base",
            "_view_module_version": "1.2.0",
            "_view_name": "LayoutView",
            "align_content": null,
            "align_items": null,
            "align_self": null,
            "border": null,
            "bottom": null,
            "display": null,
            "flex": null,
            "flex_flow": null,
            "grid_area": null,
            "grid_auto_columns": null,
            "grid_auto_flow": null,
            "grid_auto_rows": null,
            "grid_column": null,
            "grid_gap": null,
            "grid_row": null,
            "grid_template_areas": null,
            "grid_template_columns": null,
            "grid_template_rows": null,
            "height": null,
            "justify_content": null,
            "justify_items": null,
            "left": null,
            "margin": null,
            "max_height": null,
            "max_width": null,
            "min_height": null,
            "min_width": null,
            "object_fit": null,
            "object_position": null,
            "order": null,
            "overflow": null,
            "overflow_x": null,
            "overflow_y": null,
            "padding": null,
            "right": null,
            "top": null,
            "visibility": null,
            "width": null
          }
        },
        "661a1502f7204e84b230e8fc7f213843": {
          "model_module": "@jupyter-widgets/controls",
          "model_name": "DescriptionStyleModel",
          "model_module_version": "1.5.0",
          "state": {
            "_model_module": "@jupyter-widgets/controls",
            "_model_module_version": "1.5.0",
            "_model_name": "DescriptionStyleModel",
            "_view_count": null,
            "_view_module": "@jupyter-widgets/base",
            "_view_module_version": "1.2.0",
            "_view_name": "StyleView",
            "description_width": ""
          }
        },
        "422570656b1a474a88db1e5b36526dec": {
          "model_module": "@jupyter-widgets/base",
          "model_name": "LayoutModel",
          "model_module_version": "1.2.0",
          "state": {
            "_model_module": "@jupyter-widgets/base",
            "_model_module_version": "1.2.0",
            "_model_name": "LayoutModel",
            "_view_count": null,
            "_view_module": "@jupyter-widgets/base",
            "_view_module_version": "1.2.0",
            "_view_name": "LayoutView",
            "align_content": null,
            "align_items": null,
            "align_self": null,
            "border": null,
            "bottom": null,
            "display": null,
            "flex": null,
            "flex_flow": null,
            "grid_area": null,
            "grid_auto_columns": null,
            "grid_auto_flow": null,
            "grid_auto_rows": null,
            "grid_column": null,
            "grid_gap": null,
            "grid_row": null,
            "grid_template_areas": null,
            "grid_template_columns": null,
            "grid_template_rows": null,
            "height": null,
            "justify_content": null,
            "justify_items": null,
            "left": null,
            "margin": null,
            "max_height": null,
            "max_width": null,
            "min_height": null,
            "min_width": null,
            "object_fit": null,
            "object_position": null,
            "order": null,
            "overflow": null,
            "overflow_x": null,
            "overflow_y": null,
            "padding": null,
            "right": null,
            "top": null,
            "visibility": null,
            "width": "20px"
          }
        },
        "629ae84e3dc34a138e8474fd64855111": {
          "model_module": "@jupyter-widgets/controls",
          "model_name": "ProgressStyleModel",
          "model_module_version": "1.5.0",
          "state": {
            "_model_module": "@jupyter-widgets/controls",
            "_model_module_version": "1.5.0",
            "_model_name": "ProgressStyleModel",
            "_view_count": null,
            "_view_module": "@jupyter-widgets/base",
            "_view_module_version": "1.2.0",
            "_view_name": "StyleView",
            "bar_color": null,
            "description_width": ""
          }
        },
        "2cb3104c3cb24f0ba34705a2127e22bb": {
          "model_module": "@jupyter-widgets/base",
          "model_name": "LayoutModel",
          "model_module_version": "1.2.0",
          "state": {
            "_model_module": "@jupyter-widgets/base",
            "_model_module_version": "1.2.0",
            "_model_name": "LayoutModel",
            "_view_count": null,
            "_view_module": "@jupyter-widgets/base",
            "_view_module_version": "1.2.0",
            "_view_name": "LayoutView",
            "align_content": null,
            "align_items": null,
            "align_self": null,
            "border": null,
            "bottom": null,
            "display": null,
            "flex": null,
            "flex_flow": null,
            "grid_area": null,
            "grid_auto_columns": null,
            "grid_auto_flow": null,
            "grid_auto_rows": null,
            "grid_column": null,
            "grid_gap": null,
            "grid_row": null,
            "grid_template_areas": null,
            "grid_template_columns": null,
            "grid_template_rows": null,
            "height": null,
            "justify_content": null,
            "justify_items": null,
            "left": null,
            "margin": null,
            "max_height": null,
            "max_width": null,
            "min_height": null,
            "min_width": null,
            "object_fit": null,
            "object_position": null,
            "order": null,
            "overflow": null,
            "overflow_x": null,
            "overflow_y": null,
            "padding": null,
            "right": null,
            "top": null,
            "visibility": null,
            "width": null
          }
        },
        "ad63a89eafbd41a09549b0a1e82d5723": {
          "model_module": "@jupyter-widgets/controls",
          "model_name": "DescriptionStyleModel",
          "model_module_version": "1.5.0",
          "state": {
            "_model_module": "@jupyter-widgets/controls",
            "_model_module_version": "1.5.0",
            "_model_name": "DescriptionStyleModel",
            "_view_count": null,
            "_view_module": "@jupyter-widgets/base",
            "_view_module_version": "1.2.0",
            "_view_name": "StyleView",
            "description_width": ""
          }
        },
        "e9f0a7efc980445db8670ed2aaf84db3": {
          "model_module": "@jupyter-widgets/controls",
          "model_name": "HBoxModel",
          "model_module_version": "1.5.0",
          "state": {
            "_dom_classes": [],
            "_model_module": "@jupyter-widgets/controls",
            "_model_module_version": "1.5.0",
            "_model_name": "HBoxModel",
            "_view_count": null,
            "_view_module": "@jupyter-widgets/controls",
            "_view_module_version": "1.5.0",
            "_view_name": "HBoxView",
            "box_style": "",
            "children": [
              "IPY_MODEL_ffdafb1690f7428d86c3f64902e9a5bd",
              "IPY_MODEL_d546d79d2b7b455ca7febcdc54725c76",
              "IPY_MODEL_6f0e1c4776124d8a906449379ae84be2"
            ],
            "layout": "IPY_MODEL_e3b5225360f14c3e9c09b0e553e4f830"
          }
        },
        "ffdafb1690f7428d86c3f64902e9a5bd": {
          "model_module": "@jupyter-widgets/controls",
          "model_name": "HTMLModel",
          "model_module_version": "1.5.0",
          "state": {
            "_dom_classes": [],
            "_model_module": "@jupyter-widgets/controls",
            "_model_module_version": "1.5.0",
            "_model_name": "HTMLModel",
            "_view_count": null,
            "_view_module": "@jupyter-widgets/controls",
            "_view_module_version": "1.5.0",
            "_view_name": "HTMLView",
            "description": "",
            "description_tooltip": null,
            "layout": "IPY_MODEL_0a0b8918500a484d875fd81e659fe6ad",
            "placeholder": "​",
            "style": "IPY_MODEL_8db28866d84d44f5b631a24286af0a0a",
            "value": "Dl Size...: 100%"
          }
        },
        "d546d79d2b7b455ca7febcdc54725c76": {
          "model_module": "@jupyter-widgets/controls",
          "model_name": "FloatProgressModel",
          "model_module_version": "1.5.0",
          "state": {
            "_dom_classes": [],
            "_model_module": "@jupyter-widgets/controls",
            "_model_module_version": "1.5.0",
            "_model_name": "FloatProgressModel",
            "_view_count": null,
            "_view_module": "@jupyter-widgets/controls",
            "_view_module_version": "1.5.0",
            "_view_name": "ProgressView",
            "bar_style": "success",
            "description": "",
            "description_tooltip": null,
            "layout": "IPY_MODEL_94159b2d1fe34208a64bd623e317f5e7",
            "max": 1,
            "min": 0,
            "orientation": "horizontal",
            "style": "IPY_MODEL_c1c560892fc84624ba36bb1a4521a8a6",
            "value": 1
          }
        },
        "6f0e1c4776124d8a906449379ae84be2": {
          "model_module": "@jupyter-widgets/controls",
          "model_name": "HTMLModel",
          "model_module_version": "1.5.0",
          "state": {
            "_dom_classes": [],
            "_model_module": "@jupyter-widgets/controls",
            "_model_module_version": "1.5.0",
            "_model_name": "HTMLModel",
            "_view_count": null,
            "_view_module": "@jupyter-widgets/controls",
            "_view_module_version": "1.5.0",
            "_view_name": "HTMLView",
            "description": "",
            "description_tooltip": null,
            "layout": "IPY_MODEL_0f752a71dffe41709eef502f83945f91",
            "placeholder": "​",
            "style": "IPY_MODEL_92b9ce884f434eaa9d8df8ba0ae49646",
            "value": " 219/219 [00:10&lt;00:00, 21.89 MiB/s]"
          }
        },
        "e3b5225360f14c3e9c09b0e553e4f830": {
          "model_module": "@jupyter-widgets/base",
          "model_name": "LayoutModel",
          "model_module_version": "1.2.0",
          "state": {
            "_model_module": "@jupyter-widgets/base",
            "_model_module_version": "1.2.0",
            "_model_name": "LayoutModel",
            "_view_count": null,
            "_view_module": "@jupyter-widgets/base",
            "_view_module_version": "1.2.0",
            "_view_name": "LayoutView",
            "align_content": null,
            "align_items": null,
            "align_self": null,
            "border": null,
            "bottom": null,
            "display": null,
            "flex": null,
            "flex_flow": null,
            "grid_area": null,
            "grid_auto_columns": null,
            "grid_auto_flow": null,
            "grid_auto_rows": null,
            "grid_column": null,
            "grid_gap": null,
            "grid_row": null,
            "grid_template_areas": null,
            "grid_template_columns": null,
            "grid_template_rows": null,
            "height": null,
            "justify_content": null,
            "justify_items": null,
            "left": null,
            "margin": null,
            "max_height": null,
            "max_width": null,
            "min_height": null,
            "min_width": null,
            "object_fit": null,
            "object_position": null,
            "order": null,
            "overflow": null,
            "overflow_x": null,
            "overflow_y": null,
            "padding": null,
            "right": null,
            "top": null,
            "visibility": null,
            "width": null
          }
        },
        "0a0b8918500a484d875fd81e659fe6ad": {
          "model_module": "@jupyter-widgets/base",
          "model_name": "LayoutModel",
          "model_module_version": "1.2.0",
          "state": {
            "_model_module": "@jupyter-widgets/base",
            "_model_module_version": "1.2.0",
            "_model_name": "LayoutModel",
            "_view_count": null,
            "_view_module": "@jupyter-widgets/base",
            "_view_module_version": "1.2.0",
            "_view_name": "LayoutView",
            "align_content": null,
            "align_items": null,
            "align_self": null,
            "border": null,
            "bottom": null,
            "display": null,
            "flex": null,
            "flex_flow": null,
            "grid_area": null,
            "grid_auto_columns": null,
            "grid_auto_flow": null,
            "grid_auto_rows": null,
            "grid_column": null,
            "grid_gap": null,
            "grid_row": null,
            "grid_template_areas": null,
            "grid_template_columns": null,
            "grid_template_rows": null,
            "height": null,
            "justify_content": null,
            "justify_items": null,
            "left": null,
            "margin": null,
            "max_height": null,
            "max_width": null,
            "min_height": null,
            "min_width": null,
            "object_fit": null,
            "object_position": null,
            "order": null,
            "overflow": null,
            "overflow_x": null,
            "overflow_y": null,
            "padding": null,
            "right": null,
            "top": null,
            "visibility": null,
            "width": null
          }
        },
        "8db28866d84d44f5b631a24286af0a0a": {
          "model_module": "@jupyter-widgets/controls",
          "model_name": "DescriptionStyleModel",
          "model_module_version": "1.5.0",
          "state": {
            "_model_module": "@jupyter-widgets/controls",
            "_model_module_version": "1.5.0",
            "_model_name": "DescriptionStyleModel",
            "_view_count": null,
            "_view_module": "@jupyter-widgets/base",
            "_view_module_version": "1.2.0",
            "_view_name": "StyleView",
            "description_width": ""
          }
        },
        "94159b2d1fe34208a64bd623e317f5e7": {
          "model_module": "@jupyter-widgets/base",
          "model_name": "LayoutModel",
          "model_module_version": "1.2.0",
          "state": {
            "_model_module": "@jupyter-widgets/base",
            "_model_module_version": "1.2.0",
            "_model_name": "LayoutModel",
            "_view_count": null,
            "_view_module": "@jupyter-widgets/base",
            "_view_module_version": "1.2.0",
            "_view_name": "LayoutView",
            "align_content": null,
            "align_items": null,
            "align_self": null,
            "border": null,
            "bottom": null,
            "display": null,
            "flex": null,
            "flex_flow": null,
            "grid_area": null,
            "grid_auto_columns": null,
            "grid_auto_flow": null,
            "grid_auto_rows": null,
            "grid_column": null,
            "grid_gap": null,
            "grid_row": null,
            "grid_template_areas": null,
            "grid_template_columns": null,
            "grid_template_rows": null,
            "height": null,
            "justify_content": null,
            "justify_items": null,
            "left": null,
            "margin": null,
            "max_height": null,
            "max_width": null,
            "min_height": null,
            "min_width": null,
            "object_fit": null,
            "object_position": null,
            "order": null,
            "overflow": null,
            "overflow_x": null,
            "overflow_y": null,
            "padding": null,
            "right": null,
            "top": null,
            "visibility": null,
            "width": "20px"
          }
        },
        "c1c560892fc84624ba36bb1a4521a8a6": {
          "model_module": "@jupyter-widgets/controls",
          "model_name": "ProgressStyleModel",
          "model_module_version": "1.5.0",
          "state": {
            "_model_module": "@jupyter-widgets/controls",
            "_model_module_version": "1.5.0",
            "_model_name": "ProgressStyleModel",
            "_view_count": null,
            "_view_module": "@jupyter-widgets/base",
            "_view_module_version": "1.2.0",
            "_view_name": "StyleView",
            "bar_color": null,
            "description_width": ""
          }
        },
        "0f752a71dffe41709eef502f83945f91": {
          "model_module": "@jupyter-widgets/base",
          "model_name": "LayoutModel",
          "model_module_version": "1.2.0",
          "state": {
            "_model_module": "@jupyter-widgets/base",
            "_model_module_version": "1.2.0",
            "_model_name": "LayoutModel",
            "_view_count": null,
            "_view_module": "@jupyter-widgets/base",
            "_view_module_version": "1.2.0",
            "_view_name": "LayoutView",
            "align_content": null,
            "align_items": null,
            "align_self": null,
            "border": null,
            "bottom": null,
            "display": null,
            "flex": null,
            "flex_flow": null,
            "grid_area": null,
            "grid_auto_columns": null,
            "grid_auto_flow": null,
            "grid_auto_rows": null,
            "grid_column": null,
            "grid_gap": null,
            "grid_row": null,
            "grid_template_areas": null,
            "grid_template_columns": null,
            "grid_template_rows": null,
            "height": null,
            "justify_content": null,
            "justify_items": null,
            "left": null,
            "margin": null,
            "max_height": null,
            "max_width": null,
            "min_height": null,
            "min_width": null,
            "object_fit": null,
            "object_position": null,
            "order": null,
            "overflow": null,
            "overflow_x": null,
            "overflow_y": null,
            "padding": null,
            "right": null,
            "top": null,
            "visibility": null,
            "width": null
          }
        },
        "92b9ce884f434eaa9d8df8ba0ae49646": {
          "model_module": "@jupyter-widgets/controls",
          "model_name": "DescriptionStyleModel",
          "model_module_version": "1.5.0",
          "state": {
            "_model_module": "@jupyter-widgets/controls",
            "_model_module_version": "1.5.0",
            "_model_name": "DescriptionStyleModel",
            "_view_count": null,
            "_view_module": "@jupyter-widgets/base",
            "_view_module_version": "1.2.0",
            "_view_name": "StyleView",
            "description_width": ""
          }
        },
        "4d87886449b44786b48e7dbdab1c8f6d": {
          "model_module": "@jupyter-widgets/controls",
          "model_name": "HBoxModel",
          "model_module_version": "1.5.0",
          "state": {
            "_dom_classes": [],
            "_model_module": "@jupyter-widgets/controls",
            "_model_module_version": "1.5.0",
            "_model_name": "HBoxModel",
            "_view_count": null,
            "_view_module": "@jupyter-widgets/controls",
            "_view_module_version": "1.5.0",
            "_view_name": "HBoxView",
            "box_style": "",
            "children": [
              "IPY_MODEL_0ebd5cbbe82648ffa69ecd72849ed510",
              "IPY_MODEL_b0c91bbe87a14292bf03d46350c3e694",
              "IPY_MODEL_a0dde7248d3b411fa331ad95e095b673"
            ],
            "layout": "IPY_MODEL_5dbe0befc7f04502baa1a08f60e22ec9"
          }
        },
        "0ebd5cbbe82648ffa69ecd72849ed510": {
          "model_module": "@jupyter-widgets/controls",
          "model_name": "HTMLModel",
          "model_module_version": "1.5.0",
          "state": {
            "_dom_classes": [],
            "_model_module": "@jupyter-widgets/controls",
            "_model_module_version": "1.5.0",
            "_model_name": "HTMLModel",
            "_view_count": null,
            "_view_module": "@jupyter-widgets/controls",
            "_view_module_version": "1.5.0",
            "_view_name": "HTMLView",
            "description": "",
            "description_tooltip": null,
            "layout": "IPY_MODEL_e8623f6eb28c487f9214b66d18ace64e",
            "placeholder": "​",
            "style": "IPY_MODEL_982b86b1c2a04286945f982a3ff73fad",
            "value": "Generating splits...: 100%"
          }
        },
        "b0c91bbe87a14292bf03d46350c3e694": {
          "model_module": "@jupyter-widgets/controls",
          "model_name": "FloatProgressModel",
          "model_module_version": "1.5.0",
          "state": {
            "_dom_classes": [],
            "_model_module": "@jupyter-widgets/controls",
            "_model_module_version": "1.5.0",
            "_model_name": "FloatProgressModel",
            "_view_count": null,
            "_view_module": "@jupyter-widgets/controls",
            "_view_module_version": "1.5.0",
            "_view_name": "ProgressView",
            "bar_style": "",
            "description": "",
            "description_tooltip": null,
            "layout": "IPY_MODEL_5e843be7c94a435780429bba4dc47f7d",
            "max": 2,
            "min": 0,
            "orientation": "horizontal",
            "style": "IPY_MODEL_a6ec164d9fd8405aacb89a48ed975000",
            "value": 2
          }
        },
        "a0dde7248d3b411fa331ad95e095b673": {
          "model_module": "@jupyter-widgets/controls",
          "model_name": "HTMLModel",
          "model_module_version": "1.5.0",
          "state": {
            "_dom_classes": [],
            "_model_module": "@jupyter-widgets/controls",
            "_model_module_version": "1.5.0",
            "_model_name": "HTMLModel",
            "_view_count": null,
            "_view_module": "@jupyter-widgets/controls",
            "_view_module_version": "1.5.0",
            "_view_name": "HTMLView",
            "description": "",
            "description_tooltip": null,
            "layout": "IPY_MODEL_799e02e6253048259194b4abb5d75669",
            "placeholder": "​",
            "style": "IPY_MODEL_3448e9ba9505440dae54b3b6f817dc26",
            "value": " 2/2 [00:03&lt;00:00,  1.54s/ splits]"
          }
        },
        "5dbe0befc7f04502baa1a08f60e22ec9": {
          "model_module": "@jupyter-widgets/base",
          "model_name": "LayoutModel",
          "model_module_version": "1.2.0",
          "state": {
            "_model_module": "@jupyter-widgets/base",
            "_model_module_version": "1.2.0",
            "_model_name": "LayoutModel",
            "_view_count": null,
            "_view_module": "@jupyter-widgets/base",
            "_view_module_version": "1.2.0",
            "_view_name": "LayoutView",
            "align_content": null,
            "align_items": null,
            "align_self": null,
            "border": null,
            "bottom": null,
            "display": null,
            "flex": null,
            "flex_flow": null,
            "grid_area": null,
            "grid_auto_columns": null,
            "grid_auto_flow": null,
            "grid_auto_rows": null,
            "grid_column": null,
            "grid_gap": null,
            "grid_row": null,
            "grid_template_areas": null,
            "grid_template_columns": null,
            "grid_template_rows": null,
            "height": null,
            "justify_content": null,
            "justify_items": null,
            "left": null,
            "margin": null,
            "max_height": null,
            "max_width": null,
            "min_height": null,
            "min_width": null,
            "object_fit": null,
            "object_position": null,
            "order": null,
            "overflow": null,
            "overflow_x": null,
            "overflow_y": null,
            "padding": null,
            "right": null,
            "top": null,
            "visibility": "hidden",
            "width": null
          }
        },
        "e8623f6eb28c487f9214b66d18ace64e": {
          "model_module": "@jupyter-widgets/base",
          "model_name": "LayoutModel",
          "model_module_version": "1.2.0",
          "state": {
            "_model_module": "@jupyter-widgets/base",
            "_model_module_version": "1.2.0",
            "_model_name": "LayoutModel",
            "_view_count": null,
            "_view_module": "@jupyter-widgets/base",
            "_view_module_version": "1.2.0",
            "_view_name": "LayoutView",
            "align_content": null,
            "align_items": null,
            "align_self": null,
            "border": null,
            "bottom": null,
            "display": null,
            "flex": null,
            "flex_flow": null,
            "grid_area": null,
            "grid_auto_columns": null,
            "grid_auto_flow": null,
            "grid_auto_rows": null,
            "grid_column": null,
            "grid_gap": null,
            "grid_row": null,
            "grid_template_areas": null,
            "grid_template_columns": null,
            "grid_template_rows": null,
            "height": null,
            "justify_content": null,
            "justify_items": null,
            "left": null,
            "margin": null,
            "max_height": null,
            "max_width": null,
            "min_height": null,
            "min_width": null,
            "object_fit": null,
            "object_position": null,
            "order": null,
            "overflow": null,
            "overflow_x": null,
            "overflow_y": null,
            "padding": null,
            "right": null,
            "top": null,
            "visibility": null,
            "width": null
          }
        },
        "982b86b1c2a04286945f982a3ff73fad": {
          "model_module": "@jupyter-widgets/controls",
          "model_name": "DescriptionStyleModel",
          "model_module_version": "1.5.0",
          "state": {
            "_model_module": "@jupyter-widgets/controls",
            "_model_module_version": "1.5.0",
            "_model_name": "DescriptionStyleModel",
            "_view_count": null,
            "_view_module": "@jupyter-widgets/base",
            "_view_module_version": "1.2.0",
            "_view_name": "StyleView",
            "description_width": ""
          }
        },
        "5e843be7c94a435780429bba4dc47f7d": {
          "model_module": "@jupyter-widgets/base",
          "model_name": "LayoutModel",
          "model_module_version": "1.2.0",
          "state": {
            "_model_module": "@jupyter-widgets/base",
            "_model_module_version": "1.2.0",
            "_model_name": "LayoutModel",
            "_view_count": null,
            "_view_module": "@jupyter-widgets/base",
            "_view_module_version": "1.2.0",
            "_view_name": "LayoutView",
            "align_content": null,
            "align_items": null,
            "align_self": null,
            "border": null,
            "bottom": null,
            "display": null,
            "flex": null,
            "flex_flow": null,
            "grid_area": null,
            "grid_auto_columns": null,
            "grid_auto_flow": null,
            "grid_auto_rows": null,
            "grid_column": null,
            "grid_gap": null,
            "grid_row": null,
            "grid_template_areas": null,
            "grid_template_columns": null,
            "grid_template_rows": null,
            "height": null,
            "justify_content": null,
            "justify_items": null,
            "left": null,
            "margin": null,
            "max_height": null,
            "max_width": null,
            "min_height": null,
            "min_width": null,
            "object_fit": null,
            "object_position": null,
            "order": null,
            "overflow": null,
            "overflow_x": null,
            "overflow_y": null,
            "padding": null,
            "right": null,
            "top": null,
            "visibility": null,
            "width": null
          }
        },
        "a6ec164d9fd8405aacb89a48ed975000": {
          "model_module": "@jupyter-widgets/controls",
          "model_name": "ProgressStyleModel",
          "model_module_version": "1.5.0",
          "state": {
            "_model_module": "@jupyter-widgets/controls",
            "_model_module_version": "1.5.0",
            "_model_name": "ProgressStyleModel",
            "_view_count": null,
            "_view_module": "@jupyter-widgets/base",
            "_view_module_version": "1.2.0",
            "_view_name": "StyleView",
            "bar_color": null,
            "description_width": ""
          }
        },
        "799e02e6253048259194b4abb5d75669": {
          "model_module": "@jupyter-widgets/base",
          "model_name": "LayoutModel",
          "model_module_version": "1.2.0",
          "state": {
            "_model_module": "@jupyter-widgets/base",
            "_model_module_version": "1.2.0",
            "_model_name": "LayoutModel",
            "_view_count": null,
            "_view_module": "@jupyter-widgets/base",
            "_view_module_version": "1.2.0",
            "_view_name": "LayoutView",
            "align_content": null,
            "align_items": null,
            "align_self": null,
            "border": null,
            "bottom": null,
            "display": null,
            "flex": null,
            "flex_flow": null,
            "grid_area": null,
            "grid_auto_columns": null,
            "grid_auto_flow": null,
            "grid_auto_rows": null,
            "grid_column": null,
            "grid_gap": null,
            "grid_row": null,
            "grid_template_areas": null,
            "grid_template_columns": null,
            "grid_template_rows": null,
            "height": null,
            "justify_content": null,
            "justify_items": null,
            "left": null,
            "margin": null,
            "max_height": null,
            "max_width": null,
            "min_height": null,
            "min_width": null,
            "object_fit": null,
            "object_position": null,
            "order": null,
            "overflow": null,
            "overflow_x": null,
            "overflow_y": null,
            "padding": null,
            "right": null,
            "top": null,
            "visibility": null,
            "width": null
          }
        },
        "3448e9ba9505440dae54b3b6f817dc26": {
          "model_module": "@jupyter-widgets/controls",
          "model_name": "DescriptionStyleModel",
          "model_module_version": "1.5.0",
          "state": {
            "_model_module": "@jupyter-widgets/controls",
            "_model_module_version": "1.5.0",
            "_model_name": "DescriptionStyleModel",
            "_view_count": null,
            "_view_module": "@jupyter-widgets/base",
            "_view_module_version": "1.2.0",
            "_view_name": "StyleView",
            "description_width": ""
          }
        },
        "89e8b08304aa4ccfacf2d3e1f94cbefc": {
          "model_module": "@jupyter-widgets/controls",
          "model_name": "HBoxModel",
          "model_module_version": "1.5.0",
          "state": {
            "_dom_classes": [],
            "_model_module": "@jupyter-widgets/controls",
            "_model_module_version": "1.5.0",
            "_model_name": "HBoxModel",
            "_view_count": null,
            "_view_module": "@jupyter-widgets/controls",
            "_view_module_version": "1.5.0",
            "_view_name": "HBoxView",
            "box_style": "",
            "children": [
              "IPY_MODEL_d1ce6332e82b43d088750b75106b9667",
              "IPY_MODEL_7766bf78c43541d78744557590bcd405",
              "IPY_MODEL_fb36525dbf2247cdb3ecdbb55f95dd89"
            ],
            "layout": "IPY_MODEL_83c3decf9552492ca6513cce77fd5cc8"
          }
        },
        "d1ce6332e82b43d088750b75106b9667": {
          "model_module": "@jupyter-widgets/controls",
          "model_name": "HTMLModel",
          "model_module_version": "1.5.0",
          "state": {
            "_dom_classes": [],
            "_model_module": "@jupyter-widgets/controls",
            "_model_module_version": "1.5.0",
            "_model_name": "HTMLModel",
            "_view_count": null,
            "_view_module": "@jupyter-widgets/controls",
            "_view_module_version": "1.5.0",
            "_view_name": "HTMLView",
            "description": "",
            "description_tooltip": null,
            "layout": "IPY_MODEL_e7bfff79515e4fdf9732aa0b8d645ebd",
            "placeholder": "​",
            "style": "IPY_MODEL_6df7204d0967439f9fb17bf58d6f6cff",
            "value": "Generating train examples...:  52%"
          }
        },
        "7766bf78c43541d78744557590bcd405": {
          "model_module": "@jupyter-widgets/controls",
          "model_name": "FloatProgressModel",
          "model_module_version": "1.5.0",
          "state": {
            "_dom_classes": [],
            "_model_module": "@jupyter-widgets/controls",
            "_model_module_version": "1.5.0",
            "_model_name": "FloatProgressModel",
            "_view_count": null,
            "_view_module": "@jupyter-widgets/controls",
            "_view_module_version": "1.5.0",
            "_view_name": "ProgressView",
            "bar_style": "",
            "description": "",
            "description_tooltip": null,
            "layout": "IPY_MODEL_cda73016aa21413e8296aef2a41d37ca",
            "max": 2520,
            "min": 0,
            "orientation": "horizontal",
            "style": "IPY_MODEL_4150906530b649218f8e3bf106dd0ab0",
            "value": 2520
          }
        },
        "fb36525dbf2247cdb3ecdbb55f95dd89": {
          "model_module": "@jupyter-widgets/controls",
          "model_name": "HTMLModel",
          "model_module_version": "1.5.0",
          "state": {
            "_dom_classes": [],
            "_model_module": "@jupyter-widgets/controls",
            "_model_module_version": "1.5.0",
            "_model_name": "HTMLModel",
            "_view_count": null,
            "_view_module": "@jupyter-widgets/controls",
            "_view_module_version": "1.5.0",
            "_view_name": "HTMLView",
            "description": "",
            "description_tooltip": null,
            "layout": "IPY_MODEL_0749ed004fb7489ebfed9ab6afd242f8",
            "placeholder": "​",
            "style": "IPY_MODEL_f8a9704c2c9f449e88f06c335f415f39",
            "value": " 1302/2520 [00:01&lt;00:00, 1301.15 examples/s]"
          }
        },
        "83c3decf9552492ca6513cce77fd5cc8": {
          "model_module": "@jupyter-widgets/base",
          "model_name": "LayoutModel",
          "model_module_version": "1.2.0",
          "state": {
            "_model_module": "@jupyter-widgets/base",
            "_model_module_version": "1.2.0",
            "_model_name": "LayoutModel",
            "_view_count": null,
            "_view_module": "@jupyter-widgets/base",
            "_view_module_version": "1.2.0",
            "_view_name": "LayoutView",
            "align_content": null,
            "align_items": null,
            "align_self": null,
            "border": null,
            "bottom": null,
            "display": null,
            "flex": null,
            "flex_flow": null,
            "grid_area": null,
            "grid_auto_columns": null,
            "grid_auto_flow": null,
            "grid_auto_rows": null,
            "grid_column": null,
            "grid_gap": null,
            "grid_row": null,
            "grid_template_areas": null,
            "grid_template_columns": null,
            "grid_template_rows": null,
            "height": null,
            "justify_content": null,
            "justify_items": null,
            "left": null,
            "margin": null,
            "max_height": null,
            "max_width": null,
            "min_height": null,
            "min_width": null,
            "object_fit": null,
            "object_position": null,
            "order": null,
            "overflow": null,
            "overflow_x": null,
            "overflow_y": null,
            "padding": null,
            "right": null,
            "top": null,
            "visibility": "hidden",
            "width": null
          }
        },
        "e7bfff79515e4fdf9732aa0b8d645ebd": {
          "model_module": "@jupyter-widgets/base",
          "model_name": "LayoutModel",
          "model_module_version": "1.2.0",
          "state": {
            "_model_module": "@jupyter-widgets/base",
            "_model_module_version": "1.2.0",
            "_model_name": "LayoutModel",
            "_view_count": null,
            "_view_module": "@jupyter-widgets/base",
            "_view_module_version": "1.2.0",
            "_view_name": "LayoutView",
            "align_content": null,
            "align_items": null,
            "align_self": null,
            "border": null,
            "bottom": null,
            "display": null,
            "flex": null,
            "flex_flow": null,
            "grid_area": null,
            "grid_auto_columns": null,
            "grid_auto_flow": null,
            "grid_auto_rows": null,
            "grid_column": null,
            "grid_gap": null,
            "grid_row": null,
            "grid_template_areas": null,
            "grid_template_columns": null,
            "grid_template_rows": null,
            "height": null,
            "justify_content": null,
            "justify_items": null,
            "left": null,
            "margin": null,
            "max_height": null,
            "max_width": null,
            "min_height": null,
            "min_width": null,
            "object_fit": null,
            "object_position": null,
            "order": null,
            "overflow": null,
            "overflow_x": null,
            "overflow_y": null,
            "padding": null,
            "right": null,
            "top": null,
            "visibility": null,
            "width": null
          }
        },
        "6df7204d0967439f9fb17bf58d6f6cff": {
          "model_module": "@jupyter-widgets/controls",
          "model_name": "DescriptionStyleModel",
          "model_module_version": "1.5.0",
          "state": {
            "_model_module": "@jupyter-widgets/controls",
            "_model_module_version": "1.5.0",
            "_model_name": "DescriptionStyleModel",
            "_view_count": null,
            "_view_module": "@jupyter-widgets/base",
            "_view_module_version": "1.2.0",
            "_view_name": "StyleView",
            "description_width": ""
          }
        },
        "cda73016aa21413e8296aef2a41d37ca": {
          "model_module": "@jupyter-widgets/base",
          "model_name": "LayoutModel",
          "model_module_version": "1.2.0",
          "state": {
            "_model_module": "@jupyter-widgets/base",
            "_model_module_version": "1.2.0",
            "_model_name": "LayoutModel",
            "_view_count": null,
            "_view_module": "@jupyter-widgets/base",
            "_view_module_version": "1.2.0",
            "_view_name": "LayoutView",
            "align_content": null,
            "align_items": null,
            "align_self": null,
            "border": null,
            "bottom": null,
            "display": null,
            "flex": null,
            "flex_flow": null,
            "grid_area": null,
            "grid_auto_columns": null,
            "grid_auto_flow": null,
            "grid_auto_rows": null,
            "grid_column": null,
            "grid_gap": null,
            "grid_row": null,
            "grid_template_areas": null,
            "grid_template_columns": null,
            "grid_template_rows": null,
            "height": null,
            "justify_content": null,
            "justify_items": null,
            "left": null,
            "margin": null,
            "max_height": null,
            "max_width": null,
            "min_height": null,
            "min_width": null,
            "object_fit": null,
            "object_position": null,
            "order": null,
            "overflow": null,
            "overflow_x": null,
            "overflow_y": null,
            "padding": null,
            "right": null,
            "top": null,
            "visibility": null,
            "width": null
          }
        },
        "4150906530b649218f8e3bf106dd0ab0": {
          "model_module": "@jupyter-widgets/controls",
          "model_name": "ProgressStyleModel",
          "model_module_version": "1.5.0",
          "state": {
            "_model_module": "@jupyter-widgets/controls",
            "_model_module_version": "1.5.0",
            "_model_name": "ProgressStyleModel",
            "_view_count": null,
            "_view_module": "@jupyter-widgets/base",
            "_view_module_version": "1.2.0",
            "_view_name": "StyleView",
            "bar_color": null,
            "description_width": ""
          }
        },
        "0749ed004fb7489ebfed9ab6afd242f8": {
          "model_module": "@jupyter-widgets/base",
          "model_name": "LayoutModel",
          "model_module_version": "1.2.0",
          "state": {
            "_model_module": "@jupyter-widgets/base",
            "_model_module_version": "1.2.0",
            "_model_name": "LayoutModel",
            "_view_count": null,
            "_view_module": "@jupyter-widgets/base",
            "_view_module_version": "1.2.0",
            "_view_name": "LayoutView",
            "align_content": null,
            "align_items": null,
            "align_self": null,
            "border": null,
            "bottom": null,
            "display": null,
            "flex": null,
            "flex_flow": null,
            "grid_area": null,
            "grid_auto_columns": null,
            "grid_auto_flow": null,
            "grid_auto_rows": null,
            "grid_column": null,
            "grid_gap": null,
            "grid_row": null,
            "grid_template_areas": null,
            "grid_template_columns": null,
            "grid_template_rows": null,
            "height": null,
            "justify_content": null,
            "justify_items": null,
            "left": null,
            "margin": null,
            "max_height": null,
            "max_width": null,
            "min_height": null,
            "min_width": null,
            "object_fit": null,
            "object_position": null,
            "order": null,
            "overflow": null,
            "overflow_x": null,
            "overflow_y": null,
            "padding": null,
            "right": null,
            "top": null,
            "visibility": null,
            "width": null
          }
        },
        "f8a9704c2c9f449e88f06c335f415f39": {
          "model_module": "@jupyter-widgets/controls",
          "model_name": "DescriptionStyleModel",
          "model_module_version": "1.5.0",
          "state": {
            "_model_module": "@jupyter-widgets/controls",
            "_model_module_version": "1.5.0",
            "_model_name": "DescriptionStyleModel",
            "_view_count": null,
            "_view_module": "@jupyter-widgets/base",
            "_view_module_version": "1.2.0",
            "_view_name": "StyleView",
            "description_width": ""
          }
        },
        "d21c26d4fdfa41d8b5fa3b86763db411": {
          "model_module": "@jupyter-widgets/controls",
          "model_name": "HBoxModel",
          "model_module_version": "1.5.0",
          "state": {
            "_dom_classes": [],
            "_model_module": "@jupyter-widgets/controls",
            "_model_module_version": "1.5.0",
            "_model_name": "HBoxModel",
            "_view_count": null,
            "_view_module": "@jupyter-widgets/controls",
            "_view_module_version": "1.5.0",
            "_view_name": "HBoxView",
            "box_style": "",
            "children": [
              "IPY_MODEL_c9e916d8bd6e47b3af9ddb916e97f39b",
              "IPY_MODEL_ba06b622f7cd4d2aa87baa62f6e5cf52",
              "IPY_MODEL_d355a75d28c4470c8a795c91472682f9"
            ],
            "layout": "IPY_MODEL_4385b8549119414fad20717d7be4c84f"
          }
        },
        "c9e916d8bd6e47b3af9ddb916e97f39b": {
          "model_module": "@jupyter-widgets/controls",
          "model_name": "HTMLModel",
          "model_module_version": "1.5.0",
          "state": {
            "_dom_classes": [],
            "_model_module": "@jupyter-widgets/controls",
            "_model_module_version": "1.5.0",
            "_model_name": "HTMLModel",
            "_view_count": null,
            "_view_module": "@jupyter-widgets/controls",
            "_view_module_version": "1.5.0",
            "_view_name": "HTMLView",
            "description": "",
            "description_tooltip": null,
            "layout": "IPY_MODEL_af48ac351938441daa78f9c6c1b6f128",
            "placeholder": "​",
            "style": "IPY_MODEL_dc4bfe02226c45fbbcd9ef7f11d235b1",
            "value": "Shuffling tmp/rock_paper_scissors/3.0.0.incomplete7ZWCFR/rock_paper_scissors-train.tfrecord*...:  97%"
          }
        },
        "ba06b622f7cd4d2aa87baa62f6e5cf52": {
          "model_module": "@jupyter-widgets/controls",
          "model_name": "FloatProgressModel",
          "model_module_version": "1.5.0",
          "state": {
            "_dom_classes": [],
            "_model_module": "@jupyter-widgets/controls",
            "_model_module_version": "1.5.0",
            "_model_name": "FloatProgressModel",
            "_view_count": null,
            "_view_module": "@jupyter-widgets/controls",
            "_view_module_version": "1.5.0",
            "_view_name": "ProgressView",
            "bar_style": "",
            "description": "",
            "description_tooltip": null,
            "layout": "IPY_MODEL_776d5dd9f7d1414f90ff0a3d416c07ab",
            "max": 2520,
            "min": 0,
            "orientation": "horizontal",
            "style": "IPY_MODEL_b8ecce530bbc45029652409c64586b6f",
            "value": 2520
          }
        },
        "d355a75d28c4470c8a795c91472682f9": {
          "model_module": "@jupyter-widgets/controls",
          "model_name": "HTMLModel",
          "model_module_version": "1.5.0",
          "state": {
            "_dom_classes": [],
            "_model_module": "@jupyter-widgets/controls",
            "_model_module_version": "1.5.0",
            "_model_name": "HTMLModel",
            "_view_count": null,
            "_view_module": "@jupyter-widgets/controls",
            "_view_module_version": "1.5.0",
            "_view_name": "HTMLView",
            "description": "",
            "description_tooltip": null,
            "layout": "IPY_MODEL_73bcce0b634d491fbcaa2866ed2f3297",
            "placeholder": "​",
            "style": "IPY_MODEL_47aeb706b10249dd830baef3f0b5e6df",
            "value": " 2452/2520 [00:00&lt;00:00, 2957.39 examples/s]"
          }
        },
        "4385b8549119414fad20717d7be4c84f": {
          "model_module": "@jupyter-widgets/base",
          "model_name": "LayoutModel",
          "model_module_version": "1.2.0",
          "state": {
            "_model_module": "@jupyter-widgets/base",
            "_model_module_version": "1.2.0",
            "_model_name": "LayoutModel",
            "_view_count": null,
            "_view_module": "@jupyter-widgets/base",
            "_view_module_version": "1.2.0",
            "_view_name": "LayoutView",
            "align_content": null,
            "align_items": null,
            "align_self": null,
            "border": null,
            "bottom": null,
            "display": null,
            "flex": null,
            "flex_flow": null,
            "grid_area": null,
            "grid_auto_columns": null,
            "grid_auto_flow": null,
            "grid_auto_rows": null,
            "grid_column": null,
            "grid_gap": null,
            "grid_row": null,
            "grid_template_areas": null,
            "grid_template_columns": null,
            "grid_template_rows": null,
            "height": null,
            "justify_content": null,
            "justify_items": null,
            "left": null,
            "margin": null,
            "max_height": null,
            "max_width": null,
            "min_height": null,
            "min_width": null,
            "object_fit": null,
            "object_position": null,
            "order": null,
            "overflow": null,
            "overflow_x": null,
            "overflow_y": null,
            "padding": null,
            "right": null,
            "top": null,
            "visibility": "hidden",
            "width": null
          }
        },
        "af48ac351938441daa78f9c6c1b6f128": {
          "model_module": "@jupyter-widgets/base",
          "model_name": "LayoutModel",
          "model_module_version": "1.2.0",
          "state": {
            "_model_module": "@jupyter-widgets/base",
            "_model_module_version": "1.2.0",
            "_model_name": "LayoutModel",
            "_view_count": null,
            "_view_module": "@jupyter-widgets/base",
            "_view_module_version": "1.2.0",
            "_view_name": "LayoutView",
            "align_content": null,
            "align_items": null,
            "align_self": null,
            "border": null,
            "bottom": null,
            "display": null,
            "flex": null,
            "flex_flow": null,
            "grid_area": null,
            "grid_auto_columns": null,
            "grid_auto_flow": null,
            "grid_auto_rows": null,
            "grid_column": null,
            "grid_gap": null,
            "grid_row": null,
            "grid_template_areas": null,
            "grid_template_columns": null,
            "grid_template_rows": null,
            "height": null,
            "justify_content": null,
            "justify_items": null,
            "left": null,
            "margin": null,
            "max_height": null,
            "max_width": null,
            "min_height": null,
            "min_width": null,
            "object_fit": null,
            "object_position": null,
            "order": null,
            "overflow": null,
            "overflow_x": null,
            "overflow_y": null,
            "padding": null,
            "right": null,
            "top": null,
            "visibility": null,
            "width": null
          }
        },
        "dc4bfe02226c45fbbcd9ef7f11d235b1": {
          "model_module": "@jupyter-widgets/controls",
          "model_name": "DescriptionStyleModel",
          "model_module_version": "1.5.0",
          "state": {
            "_model_module": "@jupyter-widgets/controls",
            "_model_module_version": "1.5.0",
            "_model_name": "DescriptionStyleModel",
            "_view_count": null,
            "_view_module": "@jupyter-widgets/base",
            "_view_module_version": "1.2.0",
            "_view_name": "StyleView",
            "description_width": ""
          }
        },
        "776d5dd9f7d1414f90ff0a3d416c07ab": {
          "model_module": "@jupyter-widgets/base",
          "model_name": "LayoutModel",
          "model_module_version": "1.2.0",
          "state": {
            "_model_module": "@jupyter-widgets/base",
            "_model_module_version": "1.2.0",
            "_model_name": "LayoutModel",
            "_view_count": null,
            "_view_module": "@jupyter-widgets/base",
            "_view_module_version": "1.2.0",
            "_view_name": "LayoutView",
            "align_content": null,
            "align_items": null,
            "align_self": null,
            "border": null,
            "bottom": null,
            "display": null,
            "flex": null,
            "flex_flow": null,
            "grid_area": null,
            "grid_auto_columns": null,
            "grid_auto_flow": null,
            "grid_auto_rows": null,
            "grid_column": null,
            "grid_gap": null,
            "grid_row": null,
            "grid_template_areas": null,
            "grid_template_columns": null,
            "grid_template_rows": null,
            "height": null,
            "justify_content": null,
            "justify_items": null,
            "left": null,
            "margin": null,
            "max_height": null,
            "max_width": null,
            "min_height": null,
            "min_width": null,
            "object_fit": null,
            "object_position": null,
            "order": null,
            "overflow": null,
            "overflow_x": null,
            "overflow_y": null,
            "padding": null,
            "right": null,
            "top": null,
            "visibility": null,
            "width": null
          }
        },
        "b8ecce530bbc45029652409c64586b6f": {
          "model_module": "@jupyter-widgets/controls",
          "model_name": "ProgressStyleModel",
          "model_module_version": "1.5.0",
          "state": {
            "_model_module": "@jupyter-widgets/controls",
            "_model_module_version": "1.5.0",
            "_model_name": "ProgressStyleModel",
            "_view_count": null,
            "_view_module": "@jupyter-widgets/base",
            "_view_module_version": "1.2.0",
            "_view_name": "StyleView",
            "bar_color": null,
            "description_width": ""
          }
        },
        "73bcce0b634d491fbcaa2866ed2f3297": {
          "model_module": "@jupyter-widgets/base",
          "model_name": "LayoutModel",
          "model_module_version": "1.2.0",
          "state": {
            "_model_module": "@jupyter-widgets/base",
            "_model_module_version": "1.2.0",
            "_model_name": "LayoutModel",
            "_view_count": null,
            "_view_module": "@jupyter-widgets/base",
            "_view_module_version": "1.2.0",
            "_view_name": "LayoutView",
            "align_content": null,
            "align_items": null,
            "align_self": null,
            "border": null,
            "bottom": null,
            "display": null,
            "flex": null,
            "flex_flow": null,
            "grid_area": null,
            "grid_auto_columns": null,
            "grid_auto_flow": null,
            "grid_auto_rows": null,
            "grid_column": null,
            "grid_gap": null,
            "grid_row": null,
            "grid_template_areas": null,
            "grid_template_columns": null,
            "grid_template_rows": null,
            "height": null,
            "justify_content": null,
            "justify_items": null,
            "left": null,
            "margin": null,
            "max_height": null,
            "max_width": null,
            "min_height": null,
            "min_width": null,
            "object_fit": null,
            "object_position": null,
            "order": null,
            "overflow": null,
            "overflow_x": null,
            "overflow_y": null,
            "padding": null,
            "right": null,
            "top": null,
            "visibility": null,
            "width": null
          }
        },
        "47aeb706b10249dd830baef3f0b5e6df": {
          "model_module": "@jupyter-widgets/controls",
          "model_name": "DescriptionStyleModel",
          "model_module_version": "1.5.0",
          "state": {
            "_model_module": "@jupyter-widgets/controls",
            "_model_module_version": "1.5.0",
            "_model_name": "DescriptionStyleModel",
            "_view_count": null,
            "_view_module": "@jupyter-widgets/base",
            "_view_module_version": "1.2.0",
            "_view_name": "StyleView",
            "description_width": ""
          }
        },
        "08ec812a952540aabc052932eb2c2f79": {
          "model_module": "@jupyter-widgets/controls",
          "model_name": "HBoxModel",
          "model_module_version": "1.5.0",
          "state": {
            "_dom_classes": [],
            "_model_module": "@jupyter-widgets/controls",
            "_model_module_version": "1.5.0",
            "_model_name": "HBoxModel",
            "_view_count": null,
            "_view_module": "@jupyter-widgets/controls",
            "_view_module_version": "1.5.0",
            "_view_name": "HBoxView",
            "box_style": "",
            "children": [
              "IPY_MODEL_881e63dedc9c43c48ffa031060c73690",
              "IPY_MODEL_1acf342195164dda998b16244f217b11",
              "IPY_MODEL_fc10f7c1a6504225ae63746b2a8eaad6"
            ],
            "layout": "IPY_MODEL_ed239e607cd64fb895c3e4996ba504dc"
          }
        },
        "881e63dedc9c43c48ffa031060c73690": {
          "model_module": "@jupyter-widgets/controls",
          "model_name": "HTMLModel",
          "model_module_version": "1.5.0",
          "state": {
            "_dom_classes": [],
            "_model_module": "@jupyter-widgets/controls",
            "_model_module_version": "1.5.0",
            "_model_name": "HTMLModel",
            "_view_count": null,
            "_view_module": "@jupyter-widgets/controls",
            "_view_module_version": "1.5.0",
            "_view_name": "HTMLView",
            "description": "",
            "description_tooltip": null,
            "layout": "IPY_MODEL_8b30a73b9eae4ed8b8b1a68950574517",
            "placeholder": "​",
            "style": "IPY_MODEL_37ce9c75fd4b44ac9f8656385bff7681",
            "value": "Generating test examples...:   0%"
          }
        },
        "1acf342195164dda998b16244f217b11": {
          "model_module": "@jupyter-widgets/controls",
          "model_name": "FloatProgressModel",
          "model_module_version": "1.5.0",
          "state": {
            "_dom_classes": [],
            "_model_module": "@jupyter-widgets/controls",
            "_model_module_version": "1.5.0",
            "_model_name": "FloatProgressModel",
            "_view_count": null,
            "_view_module": "@jupyter-widgets/controls",
            "_view_module_version": "1.5.0",
            "_view_name": "ProgressView",
            "bar_style": "",
            "description": "",
            "description_tooltip": null,
            "layout": "IPY_MODEL_a095571fab5a4417ae2a81f3acab72b5",
            "max": 372,
            "min": 0,
            "orientation": "horizontal",
            "style": "IPY_MODEL_2eaf16abd29f47bfb3cabf9d983fad83",
            "value": 372
          }
        },
        "fc10f7c1a6504225ae63746b2a8eaad6": {
          "model_module": "@jupyter-widgets/controls",
          "model_name": "HTMLModel",
          "model_module_version": "1.5.0",
          "state": {
            "_dom_classes": [],
            "_model_module": "@jupyter-widgets/controls",
            "_model_module_version": "1.5.0",
            "_model_name": "HTMLModel",
            "_view_count": null,
            "_view_module": "@jupyter-widgets/controls",
            "_view_module_version": "1.5.0",
            "_view_name": "HTMLView",
            "description": "",
            "description_tooltip": null,
            "layout": "IPY_MODEL_71c60ec6d8064779a8cc4c0661169201",
            "placeholder": "​",
            "style": "IPY_MODEL_f7512aad4651477b94a40d54b478115e",
            "value": " 0/372 [00:00&lt;?, ? examples/s]"
          }
        },
        "ed239e607cd64fb895c3e4996ba504dc": {
          "model_module": "@jupyter-widgets/base",
          "model_name": "LayoutModel",
          "model_module_version": "1.2.0",
          "state": {
            "_model_module": "@jupyter-widgets/base",
            "_model_module_version": "1.2.0",
            "_model_name": "LayoutModel",
            "_view_count": null,
            "_view_module": "@jupyter-widgets/base",
            "_view_module_version": "1.2.0",
            "_view_name": "LayoutView",
            "align_content": null,
            "align_items": null,
            "align_self": null,
            "border": null,
            "bottom": null,
            "display": null,
            "flex": null,
            "flex_flow": null,
            "grid_area": null,
            "grid_auto_columns": null,
            "grid_auto_flow": null,
            "grid_auto_rows": null,
            "grid_column": null,
            "grid_gap": null,
            "grid_row": null,
            "grid_template_areas": null,
            "grid_template_columns": null,
            "grid_template_rows": null,
            "height": null,
            "justify_content": null,
            "justify_items": null,
            "left": null,
            "margin": null,
            "max_height": null,
            "max_width": null,
            "min_height": null,
            "min_width": null,
            "object_fit": null,
            "object_position": null,
            "order": null,
            "overflow": null,
            "overflow_x": null,
            "overflow_y": null,
            "padding": null,
            "right": null,
            "top": null,
            "visibility": "hidden",
            "width": null
          }
        },
        "8b30a73b9eae4ed8b8b1a68950574517": {
          "model_module": "@jupyter-widgets/base",
          "model_name": "LayoutModel",
          "model_module_version": "1.2.0",
          "state": {
            "_model_module": "@jupyter-widgets/base",
            "_model_module_version": "1.2.0",
            "_model_name": "LayoutModel",
            "_view_count": null,
            "_view_module": "@jupyter-widgets/base",
            "_view_module_version": "1.2.0",
            "_view_name": "LayoutView",
            "align_content": null,
            "align_items": null,
            "align_self": null,
            "border": null,
            "bottom": null,
            "display": null,
            "flex": null,
            "flex_flow": null,
            "grid_area": null,
            "grid_auto_columns": null,
            "grid_auto_flow": null,
            "grid_auto_rows": null,
            "grid_column": null,
            "grid_gap": null,
            "grid_row": null,
            "grid_template_areas": null,
            "grid_template_columns": null,
            "grid_template_rows": null,
            "height": null,
            "justify_content": null,
            "justify_items": null,
            "left": null,
            "margin": null,
            "max_height": null,
            "max_width": null,
            "min_height": null,
            "min_width": null,
            "object_fit": null,
            "object_position": null,
            "order": null,
            "overflow": null,
            "overflow_x": null,
            "overflow_y": null,
            "padding": null,
            "right": null,
            "top": null,
            "visibility": null,
            "width": null
          }
        },
        "37ce9c75fd4b44ac9f8656385bff7681": {
          "model_module": "@jupyter-widgets/controls",
          "model_name": "DescriptionStyleModel",
          "model_module_version": "1.5.0",
          "state": {
            "_model_module": "@jupyter-widgets/controls",
            "_model_module_version": "1.5.0",
            "_model_name": "DescriptionStyleModel",
            "_view_count": null,
            "_view_module": "@jupyter-widgets/base",
            "_view_module_version": "1.2.0",
            "_view_name": "StyleView",
            "description_width": ""
          }
        },
        "a095571fab5a4417ae2a81f3acab72b5": {
          "model_module": "@jupyter-widgets/base",
          "model_name": "LayoutModel",
          "model_module_version": "1.2.0",
          "state": {
            "_model_module": "@jupyter-widgets/base",
            "_model_module_version": "1.2.0",
            "_model_name": "LayoutModel",
            "_view_count": null,
            "_view_module": "@jupyter-widgets/base",
            "_view_module_version": "1.2.0",
            "_view_name": "LayoutView",
            "align_content": null,
            "align_items": null,
            "align_self": null,
            "border": null,
            "bottom": null,
            "display": null,
            "flex": null,
            "flex_flow": null,
            "grid_area": null,
            "grid_auto_columns": null,
            "grid_auto_flow": null,
            "grid_auto_rows": null,
            "grid_column": null,
            "grid_gap": null,
            "grid_row": null,
            "grid_template_areas": null,
            "grid_template_columns": null,
            "grid_template_rows": null,
            "height": null,
            "justify_content": null,
            "justify_items": null,
            "left": null,
            "margin": null,
            "max_height": null,
            "max_width": null,
            "min_height": null,
            "min_width": null,
            "object_fit": null,
            "object_position": null,
            "order": null,
            "overflow": null,
            "overflow_x": null,
            "overflow_y": null,
            "padding": null,
            "right": null,
            "top": null,
            "visibility": null,
            "width": null
          }
        },
        "2eaf16abd29f47bfb3cabf9d983fad83": {
          "model_module": "@jupyter-widgets/controls",
          "model_name": "ProgressStyleModel",
          "model_module_version": "1.5.0",
          "state": {
            "_model_module": "@jupyter-widgets/controls",
            "_model_module_version": "1.5.0",
            "_model_name": "ProgressStyleModel",
            "_view_count": null,
            "_view_module": "@jupyter-widgets/base",
            "_view_module_version": "1.2.0",
            "_view_name": "StyleView",
            "bar_color": null,
            "description_width": ""
          }
        },
        "71c60ec6d8064779a8cc4c0661169201": {
          "model_module": "@jupyter-widgets/base",
          "model_name": "LayoutModel",
          "model_module_version": "1.2.0",
          "state": {
            "_model_module": "@jupyter-widgets/base",
            "_model_module_version": "1.2.0",
            "_model_name": "LayoutModel",
            "_view_count": null,
            "_view_module": "@jupyter-widgets/base",
            "_view_module_version": "1.2.0",
            "_view_name": "LayoutView",
            "align_content": null,
            "align_items": null,
            "align_self": null,
            "border": null,
            "bottom": null,
            "display": null,
            "flex": null,
            "flex_flow": null,
            "grid_area": null,
            "grid_auto_columns": null,
            "grid_auto_flow": null,
            "grid_auto_rows": null,
            "grid_column": null,
            "grid_gap": null,
            "grid_row": null,
            "grid_template_areas": null,
            "grid_template_columns": null,
            "grid_template_rows": null,
            "height": null,
            "justify_content": null,
            "justify_items": null,
            "left": null,
            "margin": null,
            "max_height": null,
            "max_width": null,
            "min_height": null,
            "min_width": null,
            "object_fit": null,
            "object_position": null,
            "order": null,
            "overflow": null,
            "overflow_x": null,
            "overflow_y": null,
            "padding": null,
            "right": null,
            "top": null,
            "visibility": null,
            "width": null
          }
        },
        "f7512aad4651477b94a40d54b478115e": {
          "model_module": "@jupyter-widgets/controls",
          "model_name": "DescriptionStyleModel",
          "model_module_version": "1.5.0",
          "state": {
            "_model_module": "@jupyter-widgets/controls",
            "_model_module_version": "1.5.0",
            "_model_name": "DescriptionStyleModel",
            "_view_count": null,
            "_view_module": "@jupyter-widgets/base",
            "_view_module_version": "1.2.0",
            "_view_name": "StyleView",
            "description_width": ""
          }
        },
        "b000758065154ae692cd1b015c9209e9": {
          "model_module": "@jupyter-widgets/controls",
          "model_name": "HBoxModel",
          "model_module_version": "1.5.0",
          "state": {
            "_dom_classes": [],
            "_model_module": "@jupyter-widgets/controls",
            "_model_module_version": "1.5.0",
            "_model_name": "HBoxModel",
            "_view_count": null,
            "_view_module": "@jupyter-widgets/controls",
            "_view_module_version": "1.5.0",
            "_view_name": "HBoxView",
            "box_style": "",
            "children": [
              "IPY_MODEL_a4c6b780c1964d30b153839e4eb2a365",
              "IPY_MODEL_6b2f30643ab346dba8e903a627c5c724",
              "IPY_MODEL_e9ec08167f8945a8a7734bfa83967b0f"
            ],
            "layout": "IPY_MODEL_553b3057a99140218c27f806f3bec4ef"
          }
        },
        "a4c6b780c1964d30b153839e4eb2a365": {
          "model_module": "@jupyter-widgets/controls",
          "model_name": "HTMLModel",
          "model_module_version": "1.5.0",
          "state": {
            "_dom_classes": [],
            "_model_module": "@jupyter-widgets/controls",
            "_model_module_version": "1.5.0",
            "_model_name": "HTMLModel",
            "_view_count": null,
            "_view_module": "@jupyter-widgets/controls",
            "_view_module_version": "1.5.0",
            "_view_name": "HTMLView",
            "description": "",
            "description_tooltip": null,
            "layout": "IPY_MODEL_295d909ff8b14f16bd0f9328ef7a5e16",
            "placeholder": "​",
            "style": "IPY_MODEL_8e8a98f8b1d14c5888bb829cfaebce1d",
            "value": "Shuffling tmp/rock_paper_scissors/3.0.0.incomplete7ZWCFR/rock_paper_scissors-test.tfrecord*...:  72%"
          }
        },
        "6b2f30643ab346dba8e903a627c5c724": {
          "model_module": "@jupyter-widgets/controls",
          "model_name": "FloatProgressModel",
          "model_module_version": "1.5.0",
          "state": {
            "_dom_classes": [],
            "_model_module": "@jupyter-widgets/controls",
            "_model_module_version": "1.5.0",
            "_model_name": "FloatProgressModel",
            "_view_count": null,
            "_view_module": "@jupyter-widgets/controls",
            "_view_module_version": "1.5.0",
            "_view_name": "ProgressView",
            "bar_style": "",
            "description": "",
            "description_tooltip": null,
            "layout": "IPY_MODEL_3de40eb79cad4675961dc8cf5169d0af",
            "max": 372,
            "min": 0,
            "orientation": "horizontal",
            "style": "IPY_MODEL_7a9156622b52465f8b6ab16d650baeeb",
            "value": 372
          }
        },
        "e9ec08167f8945a8a7734bfa83967b0f": {
          "model_module": "@jupyter-widgets/controls",
          "model_name": "HTMLModel",
          "model_module_version": "1.5.0",
          "state": {
            "_dom_classes": [],
            "_model_module": "@jupyter-widgets/controls",
            "_model_module_version": "1.5.0",
            "_model_name": "HTMLModel",
            "_view_count": null,
            "_view_module": "@jupyter-widgets/controls",
            "_view_module_version": "1.5.0",
            "_view_name": "HTMLView",
            "description": "",
            "description_tooltip": null,
            "layout": "IPY_MODEL_13f2467b315c4c0299885b73f8efd27e",
            "placeholder": "​",
            "style": "IPY_MODEL_57d75c69071e4e8ab247082939ab018a",
            "value": " 266/372 [00:00&lt;00:00, 2656.38 examples/s]"
          }
        },
        "553b3057a99140218c27f806f3bec4ef": {
          "model_module": "@jupyter-widgets/base",
          "model_name": "LayoutModel",
          "model_module_version": "1.2.0",
          "state": {
            "_model_module": "@jupyter-widgets/base",
            "_model_module_version": "1.2.0",
            "_model_name": "LayoutModel",
            "_view_count": null,
            "_view_module": "@jupyter-widgets/base",
            "_view_module_version": "1.2.0",
            "_view_name": "LayoutView",
            "align_content": null,
            "align_items": null,
            "align_self": null,
            "border": null,
            "bottom": null,
            "display": null,
            "flex": null,
            "flex_flow": null,
            "grid_area": null,
            "grid_auto_columns": null,
            "grid_auto_flow": null,
            "grid_auto_rows": null,
            "grid_column": null,
            "grid_gap": null,
            "grid_row": null,
            "grid_template_areas": null,
            "grid_template_columns": null,
            "grid_template_rows": null,
            "height": null,
            "justify_content": null,
            "justify_items": null,
            "left": null,
            "margin": null,
            "max_height": null,
            "max_width": null,
            "min_height": null,
            "min_width": null,
            "object_fit": null,
            "object_position": null,
            "order": null,
            "overflow": null,
            "overflow_x": null,
            "overflow_y": null,
            "padding": null,
            "right": null,
            "top": null,
            "visibility": "hidden",
            "width": null
          }
        },
        "295d909ff8b14f16bd0f9328ef7a5e16": {
          "model_module": "@jupyter-widgets/base",
          "model_name": "LayoutModel",
          "model_module_version": "1.2.0",
          "state": {
            "_model_module": "@jupyter-widgets/base",
            "_model_module_version": "1.2.0",
            "_model_name": "LayoutModel",
            "_view_count": null,
            "_view_module": "@jupyter-widgets/base",
            "_view_module_version": "1.2.0",
            "_view_name": "LayoutView",
            "align_content": null,
            "align_items": null,
            "align_self": null,
            "border": null,
            "bottom": null,
            "display": null,
            "flex": null,
            "flex_flow": null,
            "grid_area": null,
            "grid_auto_columns": null,
            "grid_auto_flow": null,
            "grid_auto_rows": null,
            "grid_column": null,
            "grid_gap": null,
            "grid_row": null,
            "grid_template_areas": null,
            "grid_template_columns": null,
            "grid_template_rows": null,
            "height": null,
            "justify_content": null,
            "justify_items": null,
            "left": null,
            "margin": null,
            "max_height": null,
            "max_width": null,
            "min_height": null,
            "min_width": null,
            "object_fit": null,
            "object_position": null,
            "order": null,
            "overflow": null,
            "overflow_x": null,
            "overflow_y": null,
            "padding": null,
            "right": null,
            "top": null,
            "visibility": null,
            "width": null
          }
        },
        "8e8a98f8b1d14c5888bb829cfaebce1d": {
          "model_module": "@jupyter-widgets/controls",
          "model_name": "DescriptionStyleModel",
          "model_module_version": "1.5.0",
          "state": {
            "_model_module": "@jupyter-widgets/controls",
            "_model_module_version": "1.5.0",
            "_model_name": "DescriptionStyleModel",
            "_view_count": null,
            "_view_module": "@jupyter-widgets/base",
            "_view_module_version": "1.2.0",
            "_view_name": "StyleView",
            "description_width": ""
          }
        },
        "3de40eb79cad4675961dc8cf5169d0af": {
          "model_module": "@jupyter-widgets/base",
          "model_name": "LayoutModel",
          "model_module_version": "1.2.0",
          "state": {
            "_model_module": "@jupyter-widgets/base",
            "_model_module_version": "1.2.0",
            "_model_name": "LayoutModel",
            "_view_count": null,
            "_view_module": "@jupyter-widgets/base",
            "_view_module_version": "1.2.0",
            "_view_name": "LayoutView",
            "align_content": null,
            "align_items": null,
            "align_self": null,
            "border": null,
            "bottom": null,
            "display": null,
            "flex": null,
            "flex_flow": null,
            "grid_area": null,
            "grid_auto_columns": null,
            "grid_auto_flow": null,
            "grid_auto_rows": null,
            "grid_column": null,
            "grid_gap": null,
            "grid_row": null,
            "grid_template_areas": null,
            "grid_template_columns": null,
            "grid_template_rows": null,
            "height": null,
            "justify_content": null,
            "justify_items": null,
            "left": null,
            "margin": null,
            "max_height": null,
            "max_width": null,
            "min_height": null,
            "min_width": null,
            "object_fit": null,
            "object_position": null,
            "order": null,
            "overflow": null,
            "overflow_x": null,
            "overflow_y": null,
            "padding": null,
            "right": null,
            "top": null,
            "visibility": null,
            "width": null
          }
        },
        "7a9156622b52465f8b6ab16d650baeeb": {
          "model_module": "@jupyter-widgets/controls",
          "model_name": "ProgressStyleModel",
          "model_module_version": "1.5.0",
          "state": {
            "_model_module": "@jupyter-widgets/controls",
            "_model_module_version": "1.5.0",
            "_model_name": "ProgressStyleModel",
            "_view_count": null,
            "_view_module": "@jupyter-widgets/base",
            "_view_module_version": "1.2.0",
            "_view_name": "StyleView",
            "bar_color": null,
            "description_width": ""
          }
        },
        "13f2467b315c4c0299885b73f8efd27e": {
          "model_module": "@jupyter-widgets/base",
          "model_name": "LayoutModel",
          "model_module_version": "1.2.0",
          "state": {
            "_model_module": "@jupyter-widgets/base",
            "_model_module_version": "1.2.0",
            "_model_name": "LayoutModel",
            "_view_count": null,
            "_view_module": "@jupyter-widgets/base",
            "_view_module_version": "1.2.0",
            "_view_name": "LayoutView",
            "align_content": null,
            "align_items": null,
            "align_self": null,
            "border": null,
            "bottom": null,
            "display": null,
            "flex": null,
            "flex_flow": null,
            "grid_area": null,
            "grid_auto_columns": null,
            "grid_auto_flow": null,
            "grid_auto_rows": null,
            "grid_column": null,
            "grid_gap": null,
            "grid_row": null,
            "grid_template_areas": null,
            "grid_template_columns": null,
            "grid_template_rows": null,
            "height": null,
            "justify_content": null,
            "justify_items": null,
            "left": null,
            "margin": null,
            "max_height": null,
            "max_width": null,
            "min_height": null,
            "min_width": null,
            "object_fit": null,
            "object_position": null,
            "order": null,
            "overflow": null,
            "overflow_x": null,
            "overflow_y": null,
            "padding": null,
            "right": null,
            "top": null,
            "visibility": null,
            "width": null
          }
        },
        "57d75c69071e4e8ab247082939ab018a": {
          "model_module": "@jupyter-widgets/controls",
          "model_name": "DescriptionStyleModel",
          "model_module_version": "1.5.0",
          "state": {
            "_model_module": "@jupyter-widgets/controls",
            "_model_module_version": "1.5.0",
            "_model_name": "DescriptionStyleModel",
            "_view_count": null,
            "_view_module": "@jupyter-widgets/base",
            "_view_module_version": "1.2.0",
            "_view_name": "StyleView",
            "description_width": ""
          }
        }
      }
    }
  },
  "cells": [
    {
      "cell_type": "code",
      "source": [
        "import tensorflow as tf\n",
        "import torch\n",
        "from torchvision import transforms\n",
        "import numpy as np\n",
        "import tensorflow_datasets as tfds"
      ],
      "metadata": {
        "id": "KEZpvZBtPun4"
      },
      "execution_count": null,
      "outputs": []
    },
    {
      "cell_type": "code",
      "source": [
        "\n",
        "# Load the dataset using TensorFlow\n",
        "DATASET_NAME = 'rock_paper_scissors'\n",
        "\n",
        "(dataset_train_raw, dataset_valid_raw, dataset_test_raw), dataset_info = tfds.load(\n",
        "    name=DATASET_NAME,\n",
        "    data_dir='tmp',\n",
        "    with_info=True,\n",
        "    shuffle_files=True,\n",
        "    as_supervised=True,\n",
        "    split=['train[:70%]', 'train[70%:85%]', 'train[85%:]']\n",
        ")\n",
        "\n"
      ],
      "metadata": {
        "id": "IiTY5dpNOWqw",
        "colab": {
          "base_uri": "https://localhost:8080/",
          "height": 136,
          "referenced_widgets": [
            "8c3b9b8a5aee4fd191372aa68ea02fbf",
            "80fa4b04686443128e936aa07c98940c",
            "7c2cd65ada3047999b231b3fb8e2ed74",
            "61616005ba5f4ec89a212c53ee318342",
            "25f4ebc8bef1413983781c04d6d6eabd",
            "9c0750fd076146789beac59b6a109f02",
            "661a1502f7204e84b230e8fc7f213843",
            "422570656b1a474a88db1e5b36526dec",
            "629ae84e3dc34a138e8474fd64855111",
            "2cb3104c3cb24f0ba34705a2127e22bb",
            "ad63a89eafbd41a09549b0a1e82d5723",
            "e9f0a7efc980445db8670ed2aaf84db3",
            "ffdafb1690f7428d86c3f64902e9a5bd",
            "d546d79d2b7b455ca7febcdc54725c76",
            "6f0e1c4776124d8a906449379ae84be2",
            "e3b5225360f14c3e9c09b0e553e4f830",
            "0a0b8918500a484d875fd81e659fe6ad",
            "8db28866d84d44f5b631a24286af0a0a",
            "94159b2d1fe34208a64bd623e317f5e7",
            "c1c560892fc84624ba36bb1a4521a8a6",
            "0f752a71dffe41709eef502f83945f91",
            "92b9ce884f434eaa9d8df8ba0ae49646",
            "4d87886449b44786b48e7dbdab1c8f6d",
            "0ebd5cbbe82648ffa69ecd72849ed510",
            "b0c91bbe87a14292bf03d46350c3e694",
            "a0dde7248d3b411fa331ad95e095b673",
            "5dbe0befc7f04502baa1a08f60e22ec9",
            "e8623f6eb28c487f9214b66d18ace64e",
            "982b86b1c2a04286945f982a3ff73fad",
            "5e843be7c94a435780429bba4dc47f7d",
            "a6ec164d9fd8405aacb89a48ed975000",
            "799e02e6253048259194b4abb5d75669",
            "3448e9ba9505440dae54b3b6f817dc26",
            "89e8b08304aa4ccfacf2d3e1f94cbefc",
            "d1ce6332e82b43d088750b75106b9667",
            "7766bf78c43541d78744557590bcd405",
            "fb36525dbf2247cdb3ecdbb55f95dd89",
            "83c3decf9552492ca6513cce77fd5cc8",
            "e7bfff79515e4fdf9732aa0b8d645ebd",
            "6df7204d0967439f9fb17bf58d6f6cff",
            "cda73016aa21413e8296aef2a41d37ca",
            "4150906530b649218f8e3bf106dd0ab0",
            "0749ed004fb7489ebfed9ab6afd242f8",
            "f8a9704c2c9f449e88f06c335f415f39",
            "d21c26d4fdfa41d8b5fa3b86763db411",
            "c9e916d8bd6e47b3af9ddb916e97f39b",
            "ba06b622f7cd4d2aa87baa62f6e5cf52",
            "d355a75d28c4470c8a795c91472682f9",
            "4385b8549119414fad20717d7be4c84f",
            "af48ac351938441daa78f9c6c1b6f128",
            "dc4bfe02226c45fbbcd9ef7f11d235b1",
            "776d5dd9f7d1414f90ff0a3d416c07ab",
            "b8ecce530bbc45029652409c64586b6f",
            "73bcce0b634d491fbcaa2866ed2f3297",
            "47aeb706b10249dd830baef3f0b5e6df",
            "08ec812a952540aabc052932eb2c2f79",
            "881e63dedc9c43c48ffa031060c73690",
            "1acf342195164dda998b16244f217b11",
            "fc10f7c1a6504225ae63746b2a8eaad6",
            "ed239e607cd64fb895c3e4996ba504dc",
            "8b30a73b9eae4ed8b8b1a68950574517",
            "37ce9c75fd4b44ac9f8656385bff7681",
            "a095571fab5a4417ae2a81f3acab72b5",
            "2eaf16abd29f47bfb3cabf9d983fad83",
            "71c60ec6d8064779a8cc4c0661169201",
            "f7512aad4651477b94a40d54b478115e",
            "b000758065154ae692cd1b015c9209e9",
            "a4c6b780c1964d30b153839e4eb2a365",
            "6b2f30643ab346dba8e903a627c5c724",
            "e9ec08167f8945a8a7734bfa83967b0f",
            "553b3057a99140218c27f806f3bec4ef",
            "295d909ff8b14f16bd0f9328ef7a5e16",
            "8e8a98f8b1d14c5888bb829cfaebce1d",
            "3de40eb79cad4675961dc8cf5169d0af",
            "7a9156622b52465f8b6ab16d650baeeb",
            "13f2467b315c4c0299885b73f8efd27e",
            "57d75c69071e4e8ab247082939ab018a"
          ]
        },
        "outputId": "01f930aa-6860-4749-fe4c-bdc32eb96728"
      },
      "execution_count": null,
      "outputs": [
        {
          "output_type": "stream",
          "name": "stdout",
          "text": [
            "Downloading and preparing dataset 219.53 MiB (download: 219.53 MiB, generated: Unknown size, total: 219.53 MiB) to tmp/rock_paper_scissors/3.0.0...\n"
          ]
        },
        {
          "output_type": "display_data",
          "data": {
            "text/plain": [
              "Dl Completed...: 0 url [00:00, ? url/s]"
            ],
            "application/vnd.jupyter.widget-view+json": {
              "version_major": 2,
              "version_minor": 0,
              "model_id": "8c3b9b8a5aee4fd191372aa68ea02fbf"
            }
          },
          "metadata": {}
        },
        {
          "output_type": "display_data",
          "data": {
            "text/plain": [
              "Dl Size...: 0 MiB [00:00, ? MiB/s]"
            ],
            "application/vnd.jupyter.widget-view+json": {
              "version_major": 2,
              "version_minor": 0,
              "model_id": "e9f0a7efc980445db8670ed2aaf84db3"
            }
          },
          "metadata": {}
        },
        {
          "output_type": "display_data",
          "data": {
            "text/plain": [
              "Generating splits...:   0%|          | 0/2 [00:00<?, ? splits/s]"
            ],
            "application/vnd.jupyter.widget-view+json": {
              "version_major": 2,
              "version_minor": 0,
              "model_id": "4d87886449b44786b48e7dbdab1c8f6d"
            }
          },
          "metadata": {}
        },
        {
          "output_type": "display_data",
          "data": {
            "text/plain": [
              "Generating train examples...:   0%|          | 0/2520 [00:00<?, ? examples/s]"
            ],
            "application/vnd.jupyter.widget-view+json": {
              "version_major": 2,
              "version_minor": 0,
              "model_id": "89e8b08304aa4ccfacf2d3e1f94cbefc"
            }
          },
          "metadata": {}
        },
        {
          "output_type": "display_data",
          "data": {
            "text/plain": [
              "Shuffling tmp/rock_paper_scissors/3.0.0.incomplete7ZWCFR/rock_paper_scissors-train.tfrecord*...:   0%|        …"
            ],
            "application/vnd.jupyter.widget-view+json": {
              "version_major": 2,
              "version_minor": 0,
              "model_id": "d21c26d4fdfa41d8b5fa3b86763db411"
            }
          },
          "metadata": {}
        },
        {
          "output_type": "display_data",
          "data": {
            "text/plain": [
              "Generating test examples...:   0%|          | 0/372 [00:00<?, ? examples/s]"
            ],
            "application/vnd.jupyter.widget-view+json": {
              "version_major": 2,
              "version_minor": 0,
              "model_id": "08ec812a952540aabc052932eb2c2f79"
            }
          },
          "metadata": {}
        },
        {
          "output_type": "display_data",
          "data": {
            "text/plain": [
              "Shuffling tmp/rock_paper_scissors/3.0.0.incomplete7ZWCFR/rock_paper_scissors-test.tfrecord*...:   0%|         …"
            ],
            "application/vnd.jupyter.widget-view+json": {
              "version_major": 2,
              "version_minor": 0,
              "model_id": "b000758065154ae692cd1b015c9209e9"
            }
          },
          "metadata": {}
        },
        {
          "output_type": "stream",
          "name": "stdout",
          "text": [
            "Dataset rock_paper_scissors downloaded and prepared to tmp/rock_paper_scissors/3.0.0. Subsequent calls will reuse this data.\n"
          ]
        }
      ]
    },
    {
      "cell_type": "code",
      "source": [
        "# Convert TensorFlow dataset to NumPy arrays\n",
        "def tf_dataset_to_numpy(dataset):\n",
        "    images = []\n",
        "    labels = []\n",
        "    for image, label in tfds.as_numpy(dataset):\n",
        "        images.append(image)\n",
        "        labels.append(label)\n",
        "    return np.array(images), np.array(labels)\n",
        "\n"
      ],
      "metadata": {
        "id": "xqBIzk6VROA8"
      },
      "execution_count": null,
      "outputs": []
    },
    {
      "cell_type": "markdown",
      "source": [],
      "metadata": {
        "id": "ZB1ALpEXoPyG"
      }
    },
    {
      "cell_type": "code",
      "source": [
        "class Binarize(object):\n",
        "    def __call__(self, img):\n",
        "        img = (img > 0.5).float()\n",
        "        return img"
      ],
      "metadata": {
        "id": "Y5nsqMjlUZNU"
      },
      "execution_count": null,
      "outputs": []
    },
    {
      "cell_type": "code",
      "source": [
        "# Convert TensorFlow dataset to NumPy arrays\n",
        "train_images, train_labels = tf_dataset_to_numpy(dataset_train_raw)\n",
        "valid_images, valid_labels = tf_dataset_to_numpy(dataset_valid_raw)\n",
        "test_images, test_labels = tf_dataset_to_numpy(dataset_test_raw)\n"
      ],
      "metadata": {
        "id": "lS5Td4HkVT0b"
      },
      "execution_count": null,
      "outputs": []
    },
    {
      "cell_type": "code",
      "source": [
        "\n",
        "# Define transformations for PyTorch\n",
        "transform = transforms.Compose([\n",
        "    transforms.ToTensor(),\n",
        "    transforms.Resize(28),\n",
        "    transforms.Grayscale(),\n",
        "     # Convert images to PyTorch tensors\n",
        "    #transforms.Normalize(mean=[0.5], std=[0.5]),\n",
        "    #Binarize()\n",
        "])\n",
        "\n",
        "# Apply transformations and convert to PyTorch tensors\n",
        "train_images_tensor = torch.stack([transform(image) for image in train_images])\n",
        "valid_images_tensor = torch.stack([transform(image) for image in valid_images])\n",
        "test_images_tensor = torch.stack([transform(image) for image in test_images])\n",
        "\n",
        "# Convert labels to PyTorch tensors\n",
        "train_labels_tensor = torch.tensor(train_labels)\n",
        "valid_labels_tensor = torch.tensor(valid_labels)\n",
        "test_labels_tensor = torch.tensor(test_labels)\n",
        "\n",
        "# Now you can use train_images_tensor, valid_images_tensor, test_images_tensor,\n",
        "# train_labels_tensor, valid_labels_tensor, test_labels_tensor with PyTorch"
      ],
      "metadata": {
        "id": "jgcGugO2RP66"
      },
      "execution_count": null,
      "outputs": []
    },
    {
      "cell_type": "code",
      "source": [
        "from torch.utils.data import TensorDataset, DataLoader"
      ],
      "metadata": {
        "id": "lSsPGfqoXkpy"
      },
      "execution_count": null,
      "outputs": []
    },
    {
      "cell_type": "code",
      "source": [
        "train_dataset = TensorDataset(train_images_tensor, train_labels_tensor)\n",
        "train_loader = DataLoader(train_dataset, batch_size=128, shuffle=True)\n",
        "\n",
        "valid_dataset = TensorDataset(valid_images_tensor, valid_labels_tensor)\n",
        "valid_loader = DataLoader(valid_dataset, batch_size=128, shuffle=True)\n",
        "\n",
        "test_dataset = TensorDataset(test_images_tensor, test_labels_tensor)\n",
        "test_loader = DataLoader(test_dataset, batch_size=128, shuffle=True)\n"
      ],
      "metadata": {
        "id": "nsY4zoZRVfOH"
      },
      "execution_count": null,
      "outputs": []
    },
    {
      "cell_type": "code",
      "source": [],
      "metadata": {
        "id": "pS5pGDSocxOl"
      },
      "execution_count": null,
      "outputs": []
    },
    {
      "cell_type": "code",
      "source": [
        "\n",
        "print(train_labels_tensor[59])\n",
        "kk=train_images_tensor[59]\n",
        "npimg = kk.permute(1, 2, 0).numpy()  # Convert tensor to numpy array\n",
        "import cv2\n",
        "import torch\n",
        "import matplotlib.pyplot as plt\n",
        "plt.axis('off')\n",
        "plt.imshow(npimg,cmap=\"gray\")\n",
        "plt.pause(0.001)\n",
        "plt.show()"
      ],
      "metadata": {
        "id": "OjPWJErXPOqM"
      },
      "execution_count": null,
      "outputs": []
    },
    {
      "cell_type": "code",
      "source": [
        "import torch.nn as nn\n",
        "import torch.nn.functional as F\n",
        "import torch\n",
        "from PIL import Image\n",
        "import numpy as np\n",
        "import matplotlib.pyplot as plt\n",
        "import gzip\n"
      ],
      "metadata": {
        "id": "TyxC493kPoFD"
      },
      "execution_count": null,
      "outputs": []
    },
    {
      "cell_type": "code",
      "source": [
        "class MiniLeNet(nn.Module):\n",
        "    def __init__(self, init_weights):\n",
        "        super(MiniLeNet, self).__init__()\n",
        "        self.conv1 = nn.Conv2d(1, 3, kernel_size=3) #input28x28X1 output:26x26X3\n",
        "        self.pool1 = nn.MaxPool2d(kernel_size=2, stride=2) #input :26x26x3 ouput#\n",
        "        self.conv2 = nn.Conv2d(3, 3, kernel_size=3) #input:\n",
        "        self.pool2 = nn.MaxPool2d(kernel_size=2, stride=2, ceil_mode=False)\n",
        "        self.fc = nn.Linear(75, 3)\n",
        "        if init_weights:\n",
        "            self._initialize_weights()\n",
        "\n",
        "    def _initialize_weights(self):\n",
        "        for m in self.modules():  # Returns an iterator over all modules in the network.\n",
        "            if isinstance(m, nn.Conv2d):\n",
        "                nn.init.kaiming_normal_(m.weight, mode='fan_out', nonlinearity='relu')\n",
        "                if m.bias is not None:\n",
        "                    nn.init.constant_(m.bias, 0)\n",
        "            elif isinstance(m, nn.Linear):\n",
        "                nn.init.normal_(m.weight, 0, 0.01)\n",
        "                nn.init.constant_(m.bias, 0)\n",
        "\n",
        "    def forward(self, x):\n",
        "        x = self.conv1(x)  # input(1, 28, 28) output(3, 26, 26)\n",
        "        x = F.relu(x)\n",
        "        x = self.pool1(x)          # output(3, 13, 13)\n",
        "        x = self.conv2(x)  # output(3, 11, 11)\n",
        "        x = F.relu(x)\n",
        "        x = self.pool2(x)          # output(16, 5, 5)\n",
        "        x = x.view(-1, 75)     # output(256)\n",
        "        # conv1_result = x.cpu().detach().numpy().round()\n",
        "        # print(conv1_result)\n",
        "        x = self.fc(x)   # output(120)\n",
        "\n",
        "        return x\n"
      ],
      "metadata": {
        "id": "g5yApke8NLDr"
      },
      "execution_count": null,
      "outputs": []
    },
    {
      "cell_type": "code",
      "source": [
        "import torch\n",
        "from torch.utils.data import Dataset\n",
        "from torchvision import datasets\n",
        "from torchvision.transforms import ToTensor\n",
        "import matplotlib.pyplot as plt"
      ],
      "metadata": {
        "id": "o6ONWNnrV9Ix"
      },
      "execution_count": null,
      "outputs": []
    },
    {
      "cell_type": "code",
      "source": [
        "import torch\n",
        "import torchvision\n",
        "import torch.nn as nn\n",
        "\n",
        "\n",
        "import torch.optim as optim\n",
        "import torchvision.transforms as transforms\n",
        "from torch.utils.tensorboard import SummaryWriter"
      ],
      "metadata": {
        "id": "gdon3_sjToQz"
      },
      "execution_count": null,
      "outputs": []
    },
    {
      "cell_type": "code",
      "source": [
        "net=MiniLeNet(True)\n",
        "loss_function = nn.CrossEntropyLoss()\n",
        "optimizer = optim.Adam(net.parameters(), lr=0.0001)\n",
        "val_data_iter = iter(valid_loader)\n",
        "val_image, val_label = next(val_data_iter)"
      ],
      "metadata": {
        "id": "MnQF1qKmYFTh"
      },
      "execution_count": null,
      "outputs": []
    },
    {
      "cell_type": "code",
      "source": [
        "# Training loop\n",
        "num_epochs = 50\n",
        "for epoch in range(num_epochs):\n",
        "    running_loss = 0.0\n",
        "    for i, data in enumerate(train_loader, 0):\n",
        "        inputs, labels = data\n",
        "\n",
        "        # Zero the parameter gradients\n",
        "        optimizer.zero_grad()\n",
        "\n",
        "        # Forward pass\n",
        "        outputs = net(inputs)\n",
        "\n",
        "        # Calculate the loss\n",
        "        loss = loss_function(outputs, labels)\n",
        "\n",
        "        # Backward pass\n",
        "        loss.backward()\n",
        "\n",
        "        # Optimize\n",
        "        optimizer.step()\n",
        "\n",
        "        # print statistics\n",
        "        running_loss += loss.item()\n",
        "        if i % 14 == 13:  # print every 500 mini-batches\n",
        "          with torch.no_grad():  # 不计算损失误差梯度 减少算力\n",
        "              outputs = net(val_image)  # [batch, 10] 正向传播\n",
        "              predict_y = torch.max(outputs, dim=1)[1]  # 维度一上面寻找最大值 网络预测最可能是哪个类别\n",
        "              accuracy = torch.eq(predict_y, val_label).sum().item() / val_label.size(0)\n",
        "              # accuracy = (predict_y == val_label).sum().item() / val_label.size(0)\n",
        "              # torch.eq(predict_y, val_label)相同为True 不同为False ，sun()计算的是tensor数值，用item()转化为数值\n",
        "              print('[%d, %5d] train_loss: %.3f  test_accuracy: %.3f' %\n",
        "                    (epoch + 1, i + 1, running_loss / 15, accuracy))\n",
        "              running_loss = 0.0\n",
        "\n",
        "print('Finished Training')"
      ],
      "metadata": {
        "id": "4o0qLB1aYfoO"
      },
      "execution_count": null,
      "outputs": []
    },
    {
      "cell_type": "code",
      "source": [],
      "metadata": {
        "id": "A4MMNCa1dJCB"
      },
      "execution_count": null,
      "outputs": []
    },
    {
      "cell_type": "code",
      "source": [
        "# num_epochs=20\n",
        "# for epoch in range(num_epochs):\n"
      ],
      "metadata": {
        "id": "L1oPkI-MUV5m"
      },
      "execution_count": null,
      "outputs": []
    },
    {
      "cell_type": "code",
      "source": [
        "params = net.parameters()\n",
        "\n",
        "# Iterate through the parameters and print their shape and values\n",
        "for param in params:\n",
        "    print(param.shape)  # Print the shape of the parameter tensor\n",
        "    print(param)        # Print the parameter tensor itself"
      ],
      "metadata": {
        "id": "lmiTqeXMOW-9"
      },
      "execution_count": null,
      "outputs": []
    },
    {
      "cell_type": "code",
      "source": [],
      "metadata": {
        "id": "olIqnPh4b4XP"
      },
      "execution_count": null,
      "outputs": []
    },
    {
      "cell_type": "code",
      "source": [
        "weights=net.parameters()\n",
        "scaled_weights = [torch.round(param * 256) for param in weights]\n",
        "#scaled_weights = [np.round(int(1)) for w in weights]\n",
        "#scaled_weights = [np.round(w/w)  for w in weights]\n",
        "print(scaled_weights)"
      ],
      "metadata": {
        "id": "J23c9-W3awn9"
      },
      "execution_count": null,
      "outputs": []
    },
    {
      "cell_type": "code",
      "source": [
        "# Load the scaled and rounded parameters back into the model\n",
        "with torch.no_grad():\n",
        "    for param, scaled_rounded_param in zip(net.parameters(), scaled_weights):\n",
        "        param.data.copy_(scaled_rounded_param.data)"
      ],
      "metadata": {
        "id": "6_OR7jL2OXEy"
      },
      "execution_count": null,
      "outputs": []
    },
    {
      "cell_type": "code",
      "source": [
        "nparams = net.parameters()\n",
        "\n",
        "# Iterate through the parameters and print their shape and values\n",
        "for param in nparams:\n",
        "    print(param.shape)  # Print the shape of the parameter tensor\n",
        "    print(param)        # Print the parameter tensor itself"
      ],
      "metadata": {
        "id": "pbEgWOK9cRrt"
      },
      "execution_count": null,
      "outputs": []
    },
    {
      "cell_type": "markdown",
      "source": [
        "Sample Pridiction:"
      ],
      "metadata": {
        "id": "dK6w6uQEcuIH"
      }
    },
    {
      "cell_type": "code",
      "source": [
        "\n",
        "print(test_labels_tensor[64])\n",
        "kk=test_images_tensor[64]\n",
        "npimg = kk.permute(1, 2, 0).numpy()  # Convert tensor to numpy array\n",
        "gg=np.round(kk*255)\n",
        "import cv2\n",
        "import torch\n",
        "import matplotlib.pyplot as plt\n",
        "plt.axis('off')\n",
        "plt.imshow(npimg,cmap=\"gray\")\n",
        "plt.pause(0.001)\n",
        "plt.show()"
      ],
      "metadata": {
        "id": "JgSYMl6Tc2Go"
      },
      "execution_count": null,
      "outputs": []
    },
    {
      "cell_type": "code",
      "source": [
        "import torch\n",
        "import torch.nn.functional as F\n",
        "\n",
        "# Assuming your CNN model is defined as \"model\"\n",
        "# Assuming your image tensor is named \"image_tensor\"\n",
        "\n",
        "# Make sure your model is in evaluation mode\n",
        "net.eval()\n",
        "\n",
        "# Pass the image tensor through the model\n",
        "with torch.no_grad():\n",
        "    outputs = net(gg)\n",
        "\n",
        "# Apply softmax to get probabilities if your model output is logits\n",
        "probabilities = F.softmax(outputs, dim=1)\n",
        "\n",
        "# If you want to get the class predictions (indices with highest probability)\n",
        "_, predicted_classes = torch.max(probabilities, 1)\n",
        "\n",
        "# Convert tensor to integer\n",
        "predicted_class = predicted_classes.item()\n",
        "print(predicted_class)"
      ],
      "metadata": {
        "colab": {
          "base_uri": "https://localhost:8080/"
        },
        "id": "TqU90uIactj4",
        "outputId": "35f49391-9993-4ebc-8298-7b14a0b0edf1"
      },
      "execution_count": null,
      "outputs": [
        {
          "output_type": "stream",
          "name": "stdout",
          "text": [
            "0\n"
          ]
        }
      ]
    },
    {
      "cell_type": "code",
      "source": [
        "torch.save(net.state_dict(), \"cnn\")"
      ],
      "metadata": {
        "id": "3Aiud5TYhGl2"
      },
      "execution_count": null,
      "outputs": []
    },
    {
      "cell_type": "code",
      "source": [
        "print(test_labels_tensor[9])\n",
        "kk=test_images_tensor[9]\n",
        "gg=np.round(kk*255)"
      ],
      "metadata": {
        "id": "d_J25J7XhPRu"
      },
      "execution_count": null,
      "outputs": []
    },
    {
      "cell_type": "code",
      "source": [
        "first_layer = net.conv1  # Assuming the first layer is named \"conv1\", adjust accordingly\n",
        "sec_layer = net.conv2\n",
        "# Pass the image tensor through the first layer\n",
        "with torch.no_grad():\n",
        "    first_layer_output = first_layer(gg)\n",
        "    first_layer_output = F.relu(first_layer_output)\n",
        "    pool1_out=net.pool1(first_layer_output)\n",
        "    sec_layer_ouput = sec_layer(pool1_out)\n",
        "    sec_layer_ouput = F.relu(sec_layer_ouput)\n",
        "    pool2_out=net.pool2(sec_layer_ouput)\n",
        "    fc_in=pool2_out.view(-1,75)\n",
        "    fc_out=net.fc(fc_in)\n",
        "\n"
      ],
      "metadata": {
        "id": "agQrtCT1dAAF"
      },
      "execution_count": null,
      "outputs": []
    },
    {
      "cell_type": "code",
      "source": [
        "fc_out.shape"
      ],
      "metadata": {
        "colab": {
          "base_uri": "https://localhost:8080/"
        },
        "id": "lAWiYviD_AXX",
        "outputId": "a5c10757-2b10-4827-c641-57a09ba64749"
      },
      "execution_count": null,
      "outputs": [
        {
          "output_type": "execute_result",
          "data": {
            "text/plain": [
              "torch.Size([1, 3])"
            ]
          },
          "metadata": {},
          "execution_count": 182
        }
      ]
    },
    {
      "cell_type": "code",
      "source": [],
      "metadata": {
        "id": "yTS4wO7hC2ty"
      },
      "execution_count": null,
      "outputs": []
    },
    {
      "cell_type": "code",
      "source": [
        "# Print each channel separately\n",
        "def printLayerr(tensor_array):\n",
        "  for channel in range(tensor_array.shape[0]):\n",
        "      print(\"Channel:\", channel)\n",
        "      for row in range(tensor_array.shape[1]):\n",
        "\n",
        "          for col in range(tensor_array.shape[2]):\n",
        "              print(tensor_array[channel,row, col], end=\" \")\n",
        "          print()  # Newline after each row\n",
        "      print()  # Newline after each channel"
      ],
      "metadata": {
        "id": "h58E2xzkeC6b"
      },
      "execution_count": null,
      "outputs": []
    },
    {
      "cell_type": "code",
      "source": [
        "print(fc_out)"
      ],
      "metadata": {
        "colab": {
          "base_uri": "https://localhost:8080/"
        },
        "id": "U8uQH6ovCAT2",
        "outputId": "b26bf867-2ea3-4f4e-f77c-f06182498137"
      },
      "execution_count": null,
      "outputs": [
        {
          "output_type": "stream",
          "name": "stdout",
          "text": [
            "tensor([[ 2.5056e+09, -1.7253e+09, -1.6819e+09]])\n"
          ]
        }
      ]
    },
    {
      "cell_type": "code",
      "source": [
        "printLayerr(pool2_out.numpy())"
      ],
      "metadata": {
        "id": "lnUJpSrpDcaz"
      },
      "execution_count": null,
      "outputs": []
    },
    {
      "cell_type": "code",
      "source": [],
      "metadata": {
        "id": "DjvXk_vSeIBz"
      },
      "execution_count": null,
      "outputs": []
    },
    {
      "cell_type": "code",
      "source": [
        "#print(first_layer_output)"
      ],
      "metadata": {
        "id": "A64R-ukxdJIn"
      },
      "execution_count": null,
      "outputs": []
    },
    {
      "cell_type": "code",
      "source": [
        "import numpy as np\n",
        "\n",
        "# image\n",
        "matrix1 = np.array([[0.9998, 0.9998, 0.9998],\n",
        "                    [0.9998, 0.9998, 0.9998],\n",
        "                    [0.9997, 0.9998, 0.9998]])\n",
        "matrix1=np.round(255*matrix1)\n",
        "#weight\n",
        "matrix2 = np.array([[107, 43, 152],\n",
        "                    [-141, -91, 122],\n",
        "                    [21, -93, -138]])\n",
        "\n",
        "# Perform the convolution\n",
        "convolution_result = 0\n",
        "\n",
        "for i in range(3):\n",
        "    for j in range(3):\n",
        "        convolution_result = convolution_result+matrix1[i][j]*matrix2[i][j]\n",
        "        #print(matrix1[i][j],matrix2[i][j],matrix1[i][j]*matrix2[i][j])\n",
        "\n",
        "print(\"Convolution result:\")\n",
        "#print(convolution_result)\n",
        "print(convolution_result+23)\n"
      ],
      "metadata": {
        "colab": {
          "base_uri": "https://localhost:8080/"
        },
        "id": "dWOyRNgxdH4H",
        "outputId": "04262334-eeda-478f-bc74-2012684f3eee"
      },
      "execution_count": null,
      "outputs": [
        {
          "output_type": "stream",
          "name": "stdout",
          "text": [
            "Convolution result:\n",
            "-4567.0\n"
          ]
        }
      ]
    },
    {
      "cell_type": "code",
      "source": [],
      "metadata": {
        "id": "l_7u9cEJuHGA"
      },
      "execution_count": null,
      "outputs": []
    },
    {
      "cell_type": "code",
      "source": [],
      "metadata": {
        "id": "sRrNnN4zjFxu"
      },
      "execution_count": null,
      "outputs": []
    },
    {
      "cell_type": "markdown",
      "source": [
        "**Saving weights**"
      ],
      "metadata": {
        "id": "MBwCIXHkDSxu"
      }
    },
    {
      "cell_type": "code",
      "source": [
        "\n",
        "nparams = net.parameters()\n",
        "######################################## CONV 1 #############################################\n",
        "f = open(\"conv1.txt\", \"w\")\n",
        "f.write(\"######### conv1 weights #########\\n\")\n",
        "para = list(nparams)\n",
        "conv1_w=para[0].detach().numpy()\n",
        "for i in range(len(conv1_w)):\n",
        "  arr=conv1_w[i][0]\n",
        "  for w in arr:\n",
        "    w1=\"10'd\"+str(int(w[0])) if w[0]>0 else \"-10'd\"+str(abs(int(w[0])))\n",
        "    w2=\"10'd\"+str(int(w[1])) if w[1]>0 else \"-10'd\"+str(abs(int(w[1])))\n",
        "    w3=\"10'd\"+str(int(w[2])) if w[2]>0 else \"-10'd\"+str(abs(int(w[2])))\n",
        "    f.write(\"{},{},{}\\n\".format(w1,w2,w3))\n",
        "  f.write('---------\\n')\n",
        "  # print(para[0].detach().numpy()[1][0])\n",
        "  # print(para[0].detach().numpy()[2][0])\n",
        "\n",
        "f.write(\"######### conv1 bias #########\\n\")\n",
        "b=para[1].detach().numpy()\n",
        "b1=\"10'd\"+str(int(b[0])) if b[0]>0 else \"-10'd\"+str(abs(int(b[0])))\n",
        "b2=\"10'd\"+str(int(b[1])) if b[1]>0 else \"-10'd\"+str(abs(int(b[1])))\n",
        "b3=\"10'd\"+str(int(b[2])) if b[2]>0 else \"-10'd\"+str(abs(int(b[2])))\n",
        "f.write(\"{},{},{}\\n\".format(b1,b2,b3))\n",
        "f.close()\n",
        "\n",
        "\n",
        "\n"
      ],
      "metadata": {
        "id": "RFcn86DFuKc5"
      },
      "execution_count": null,
      "outputs": []
    },
    {
      "cell_type": "code",
      "source": [
        "\n",
        "nparams = net.parameters()\n",
        "######################################## CONV 2 #############################################\n",
        "f = open(\"conv2.txt\", \"w\")\n",
        "f.write(\"######### conv2 weights #########\\n\")\n",
        "para = list(nparams)\n",
        "temp=para[2].detach().numpy()\n",
        "#print(temp)\n",
        "#print(\"####\")\n",
        "for k in range(3):\n",
        "  for j in range(3):\n",
        "    conv2_w=temp[k][j]\n",
        "    #print(conv2_w)\n",
        "    #print('--------')\n",
        "    for i in range(3):\n",
        "      w=conv2_w[i]\n",
        "      #print(w)\n",
        "\n",
        "      w1=\"10'd\"+str(int(w[0])) if w[0]>0 else \"-10'd\"+str(abs(int(w[0])))\n",
        "      w2=\"10'd\"+str(int(w[1])) if w[1]>0 else \"-10'd\"+str(abs(int(w[1])))\n",
        "      w3=\"10'd\"+str(int(w[2])) if w[2]>0 else \"-10'd\"+str(abs(int(w[2])))\n",
        "      f.write(\"{},{},{}\\n\".format(w1,w2,w3))\n",
        "    f.write('---------\\n')\n",
        "      # print(para[0].detach().numpy()[1][0])\n",
        "      # print(para[0].detach().numpy()[2][0])\n",
        "\n",
        "f.write(\"######### conv2 bias #########\\n\")\n",
        "b=para[3].detach().numpy()*65536\n",
        "print(b)\n",
        "b1=\"10'd\"+str(int(b[0])) if b[0]>0 else \"-10'd\"+str(abs(int(b[0])))\n",
        "b2=\"10'd\"+str(int(b[1])) if b[1]>0 else \"-10'd\"+str(abs(int(b[1])))\n",
        "b3=\"10'd\"+str(int(b[2])) if b[2]>0 else \"-10'd\"+str(abs(int(b[2])))\n",
        "f.write(\"{},{},{}\\n\".format(b1,b2,b3))\n",
        "f.close()\n",
        "\n"
      ],
      "metadata": {
        "colab": {
          "base_uri": "https://localhost:8080/"
        },
        "id": "SW25sOIqwo5v",
        "outputId": "89daaeac-69a9-4591-fabb-7ae8456ecbe6"
      },
      "execution_count": null,
      "outputs": [
        {
          "output_type": "stream",
          "name": "stdout",
          "text": [
            "[196608.     -0.  65536.]\n"
          ]
        }
      ]
    },
    {
      "cell_type": "code",
      "source": [
        "def dec2bnr(dec: int, lenth: int = 19) -> str:\n",
        "    if not isinstance(dec, int):\n",
        "        raise TypeError(\"输入非十进制整数！\")\n",
        "    # 计算十进制转化为二进制后的位数\n",
        "    digits = (len(bin(dec)) - 3) if dec < 0 else (len(bin(dec)) - 2)\n",
        "    if digits >= lenth:\n",
        "        raise OverflowError(\"输入十进制整数过大，超过指定补码长度\")\n",
        "    # Note: dec & 相同位数的0b111...强制转换为补码形式\n",
        "    pattern = f\"{dec & int('0b' + '1' * lenth, 2):0{lenth}b}\"\n",
        "    return \",\".join(code for code in pattern)"
      ],
      "metadata": {
        "id": "ngzAktfk2k6p"
      },
      "execution_count": null,
      "outputs": []
    },
    {
      "cell_type": "code",
      "source": [
        "######################################## fully connected #############################################\n",
        "nparams = net.parameters()\n",
        "f = open(\"fc.txt\", \"w\")\n",
        "f.write(\"###### fc weights ######## \\n\")\n",
        "para = list(nparams)\n",
        "temp=para[4].detach().numpy()\n",
        "for i in range(75):\n",
        "  #print(temp[0][i],temp[1][i],temp[2][i])\n",
        "  w1=dec2bnr(int(temp[0][i]),10).replace(',', '')\n",
        "  w2=dec2bnr(int(temp[1][i]),10).replace(',', '')\n",
        "  w3=dec2bnr(int(temp[2][i]),10).replace(',', '')\n",
        "  f.write(\"{}{}{},\\n\".format(w1,w2,w3))\n",
        "  #print(w1,w2,w3)\n",
        "\n",
        "f.write(\"\\n\")\n",
        "f.write(\"###### fc bias ######## \\n\")\n",
        "b=para[5].detach().numpy()\n",
        "b1=\"10'd\"+str(int(b[0])) if b[0]>0 else \"-10'd\"+str(abs(int(b[0])))\n",
        "b2=\"10'd\"+str(int(b[1])) if b[1]>0 else \"-10'd\"+str(abs(int(b[1])))\n",
        "b3=\"10'd\"+str(int(b[2])) if b[2]>0 else \"-10'd\"+str(abs(int(b[2])))\n",
        "f.write(\"{},{},{}\\n\".format(b1,b2,b3))\n",
        "\n",
        "f.close()\n",
        "# print(temp)"
      ],
      "metadata": {
        "id": "rw-XkGy10bQJ"
      },
      "execution_count": null,
      "outputs": []
    },
    {
      "cell_type": "code",
      "source": [
        "# import cv2\n",
        "# from google.colab.patches import cv2_imshow\n",
        "# import numpy as np\n",
        "# import tensorflow as tf\n",
        "# # Load an RGB image\n",
        "# image = cv2.imread('p2.JPG')\n",
        "# # Convert to grayscale\n",
        "# gray_image = cv2.cvtColor(image, cv2.COLOR_BGR2GRAY)\n",
        "# resized_image = cv2.resize(gray_image, (28,28))\n",
        "# #normalized_image = resized_image / 255.0 #QUESTION?????????\n",
        "# cv2_imshow(resized_image)"
      ],
      "metadata": {
        "id": "CJGM8dmd8iK-"
      },
      "execution_count": null,
      "outputs": []
    },
    {
      "cell_type": "markdown",
      "source": [
        "**GET IMAGE data for testbenches**"
      ],
      "metadata": {
        "id": "iA-52EXFDdPu"
      }
    },
    {
      "cell_type": "code",
      "source": [
        "\n",
        "print(test_labels_tensor[8])\n",
        "kk=test_images_tensor[8]\n",
        "npimg = kk.permute(1, 2, 0).numpy()  # Convert tensor to numpy array\n",
        "import cv2\n",
        "import torch\n",
        "import matplotlib.pyplot as plt\n",
        "plt.axis('off')\n",
        "plt.imshow(npimg,cmap=\"gray\")\n",
        "plt.pause(0.001)\n",
        "plt.show()\n",
        "gg=np.round(kk*255)\n",
        "sample=gg.numpy()\n",
        "#print(sample[0])"
      ],
      "metadata": {
        "colab": {
          "base_uri": "https://localhost:8080/",
          "height": 423
        },
        "id": "sWSMRJd8EWXq",
        "outputId": "10ee9285-3b85-4ce3-ba89-e2f2f7d13275"
      },
      "execution_count": null,
      "outputs": [
        {
          "output_type": "stream",
          "name": "stdout",
          "text": [
            "tensor(1)\n"
          ]
        },
        {
          "output_type": "display_data",
          "data": {
            "text/plain": [
              "<Figure size 640x480 with 1 Axes>"
            ],
            "image/png": "[encoded data removed]"
          },
          "metadata": {}
        }
      ]
    },
    {
      "cell_type": "code",
      "source": [
        "\n",
        "\n",
        "eight_bit_values = [bin(int(pixel)) for p in sample[0] for pixel in p ]\n",
        "result=[]\n",
        "for e in eight_bit_values:\n",
        "  _,n=e.split('b')\n",
        "  #print(n)\n",
        "  result.append(n)\n",
        "print(result)\n",
        "with open(\"rock1.txt\", \"w\") as f:\n",
        "    for value in result:\n",
        "        f.write(str(value) + \"\\n\")"
      ],
      "metadata": {
        "colab": {
          "base_uri": "https://localhost:8080/"
        },
        "id": "vcKRSw5DDjD0",
        "outputId": "45954b77-b43c-4e1e-8ac9-f61874cb92fb"
      },
      "execution_count": null,
      "outputs": [
        {
          "output_type": "stream",
          "name": "stdout",
          "text": [
            "['11111111', '11111111', '11111111', '11111111', '11111111', '11111111', '11111111', '11111111', '11111111', '11111111', '11111111', '11111111', '11111111', '11111111', '11111111', '11111111', '11111111', '11111111', '11111111', '11111111', '11111111', '11111111', '11111111', '11111111', '11111111', '11111111', '11111111', '11111111', '11111111', '11111111', '11111111', '11111111', '11111111', '11111111', '11111111', '11111111', '11111111', '11111111', '11111111', '11111111', '11111111', '11111111', '11111111', '11111111', '11111111', '11111111', '11111111', '11111111', '11111111', '11111111', '11111111', '11111111', '11111111', '11111111', '11111111', '11111111', '11111111', '11111111', '11111111', '11111111', '11111111', '11111111', '11111111', '11111111', '11111111', '11111111', '11111111', '11111111', '11111111', '11111111', '11111111', '11111111', '11111111', '11111111', '11111111', '11111111', '11111111', '11111111', '11111111', '11111111', '11111111', '11111111', '11111111', '11111111', '11111111', '11111111', '11111111', '11111111', '11111111', '11111111', '11111111', '11111111', '11111111', '11111111', '11111111', '11111111', '11111111', '11111111', '11111111', '11111111', '11111111', '11111111', '11111111', '11111111', '11111111', '11111111', '11111111', '11111111', '11111111', '11111111', '11111111', '11111111', '11111111', '11111111', '11111111', '11111111', '11111111', '11111111', '11111111', '11111111', '11111111', '11111111', '11111111', '11111111', '11111111', '11111111', '11111111', '11111111', '11111111', '11111111', '11111111', '11111111', '11111111', '11111111', '11111111', '11111111', '11111111', '11111111', '11111111', '11111111', '11111111', '11111111', '11111111', '11111111', '11111111', '11111111', '11111111', '11111111', '11111111', '11111111', '11111111', '11111111', '11111111', '11111000', '11011101', '11101100', '11111010', '11101100', '11111001', '11111111', '11111111', '11111111', '11111111', '11111111', '11111111', '11111111', '11111111', '11111111', '11111111', '11111111', '11111111', '11111111', '11111111', '11111111', '11111111', '11111111', '11111111', '11111111', '11111111', '11111111', '11111110', '11100010', '10101000', '10100111', '11010011', '10011011', '11000001', '11101100', '11011100', '11111010', '11111111', '11111111', '11111111', '11111111', '11111111', '11111111', '11111111', '11111111', '11111111', '11111111', '11111111', '11111111', '11111111', '11111111', '11111111', '11111111', '11111111', '11111111', '11111100', '11011110', '10100111', '10000001', '10110101', '10001111', '10011111', '11000111', '10100000', '11100010', '11111111', '11111111', '11111111', '11111111', '11111111', '11111111', '11111111', '11111111', '11111111', '11111111', '11111111', '11111111', '11111111', '11111111', '11111111', '11111111', '11111111', '11111111', '11110000', '11010011', '10011000', '10000101', '10110001', '10000100', '10001101', '10111101', '10011011', '11011110', '11001111', '11101011', '11111111', '11111111', '11111111', '11111111', '11111111', '11111111', '11111111', '11111111', '11111111', '11111111', '11111111', '11111111', '11111111', '11111111', '11111111', '11111111', '11101110', '11001001', '10001110', '10101001', '10110100', '1111110', '1111111', '10111001', '10011011', '11000000', '10000011', '10111001', '11111110', '11111111', '11111111', '11111111', '11111111', '11111111', '11111111', '11111111', '11111111', '11111111', '11111111', '11111111', '11111111', '11111111', '11111111', '11111111', '11110001', '11001000', '10101010', '11001010', '10110111', '1111111', '10010110', '10110101', '10011000', '10101001', '10001010', '10111101', '11111110', '11111111', '11111111', '11111111', '11111111', '11111111', '11111111', '11111111', '11111111', '11111111', '11111111', '11111111', '11111111', '11111111', '11111111', '11111111', '11101110', '11010101', '11010001', '11011011', '11000000', '10001100', '10110011', '10111000', '10000001', '10001100', '10010000', '11000011', '11111110', '11111110', '11111111', '11111111', '11111111', '11111111', '11111111', '11111111', '11111111', '11111111', '11111111', '11111111', '11111111', '11111111', '11111111', '11111111', '11101111', '11011110', '11100000', '11100011', '11001000', '10101111', '11000110', '10111110', '10001101', '10100100', '10010001', '11001011', '11111111', '11111110', '11111110', '11111110', '11111111', '11111111', '11111111', '11111111', '11111111', '11111111', '11111111', '11111111', '11111111', '11111111', '11111111', '11111111', '11110011', '11100001', '11100011', '11100100', '11010001', '11000010', '11001010', '11000000', '10101110', '10110110', '10011000', '11011110', '11111110', '11111110', '11111110', '11111110', '11111111', '11111111', '11111111', '11111111', '11111111', '11111111', '11111111', '11111111', '11111111', '11111111', '11111111', '11111111', '11110100', '11100010', '11100011', '11100001', '11010111', '11001001', '11001001', '11000001', '10111101', '10110000', '10100000', '11110010', '11111110', '11111110', '11111110', '11111110', '11111111', '11111111', '11111111', '11111111', '11111111', '11111111', '11111111', '11111111', '11111111', '11111111', '11111111', '11111111', '11110110', '11100101', '11100010', '11011011', '11011000', '11001100', '11000111', '11000000', '10111110', '10100011', '10101101', '11111011', '11111110', '11111110', '11111110', '11111110', '11111111', '11111111', '11111111', '11111111', '11111111', '11111111', '11111111', '11111111', '11111111', '11111111', '11111111', '11111111', '11111001', '11100101', '11100010', '11011100', '11011001', '11001110', '11001000', '10111110', '10111001', '10011001', '10111000', '11111110', '11111110', '11111110', '11111110', '11111110', '11111111', '11111111', '11111111', '11111111', '11111111', '11111111', '11111111', '11111111', '11111111', '11111111', '11111111', '11111111', '11111101', '11101001', '11100011', '11011111', '11011001', '11010000', '11001001', '10111011', '10101110', '10010000', '11001000', '11111110', '11111110', '11111110', '11111110', '11111110', '11111111', '11111111', '11111111', '11111111', '11111111', '11111111', '11111111', '11111111', '11111111', '11111111', '11111111', '11111111', '11111111', '11101111', '11100000', '11100000', '11011010', '11010001', '11001000', '10110111', '10100100', '10010000', '11011011', '11111110', '11111110', '11111110', '11111110', '11111110', '11111111', '11111111', '11111111', '11111111', '11111111', '11111111', '11111111', '11111111', '11111111', '11111111', '11111111', '11111111', '11111111', '11110110', '11100000', '11011110', '11011100', '11010100', '11001010', '10110110', '10100010', '10011000', '11101011', '11111110', '11111110', '11111110', '11111110', '11111110', '11111111', '11111111', '11111111', '11111111', '11111111', '11111111', '11111111', '11111111', '11111111', '11111111', '11111111', '11111111', '11111111', '11111100', '11100010', '11011011', '11011100', '11010101', '11001100', '10110111', '10100011', '10100101', '11110111', '11111110', '11111110', '11111110', '11111110', '11111110', '11111111', '11111111', '11111111', '11111111', '11111111', '11111111', '11111111', '11111111', '11111111', '11111111', '11111111', '11111111', '11111111', '11111111', '11101111', '11011010', '11011101', '11011000', '11001111', '10111100', '10100010', '10110101', '11111101', '11111110', '11111110', '11111110', '11111110', '11111110', '11111111', '11111111', '11111111', '11111111', '11111111', '11111111', '11111111', '11111111', '11111111', '11111111', '11111111', '11111111', '11111111', '11111111', '11111010', '11011111', '11011100', '11011001', '11010001', '11000010', '10100101', '10111101', '11111110', '11111110', '11111110', '11111110', '11111110', '11111110', '11111111', '11111111', '11111111', '11111111', '11111111', '11111111', '11111111', '11111111', '11111111', '11111111', '11111111', '11111111', '11111111', '11111111', '11111110', '11100111', '11011110', '11011000', '11010100', '11001000', '10101011', '10111011', '11111110', '11111110', '11111110', '11111110', '11111110', '11111110', '11111111', '11111111', '11111111', '11111111', '11111111', '11111111', '11111111', '11111111', '11111111', '11111111', '11111111', '11111111', '11111111', '11111111', '11111111', '11101110', '11100010', '11011110', '11010111', '11001011', '10110000', '10110110', '11111101', '11111110', '11111110', '11111110', '11111110', '11111110', '11111111', '11111111', '11111111', '11111111', '11111111', '11111111', '11111111', '11111111', '11111111', '11111111', '11111111', '11111111', '11111111', '11111111', '11111111', '11110011', '11100100', '11100001', '11010111', '11001010', '10110000', '10101111', '11111011', '11111110', '11111110', '11111110', '11111110', '11111110', '11111111', '11111111', '11111111', '11111111', '11111111', '11111111', '11111111', '11111111', '11111111', '11111111', '11111111', '11111111', '11111111', '11111111', '11111111', '11110110', '11100100', '11100001', '11011001', '11001110', '10110010', '10101000', '11111000', '11111110', '11111110', '11111110', '11111110', '11111110', '11111111', '11111111', '11111111', '11111111', '11111111', '11111111', '11111111', '11111111', '11111111', '11111111', '11111111', '11111111', '11111111', '11111111', '11111111', '11111000', '11100101', '11100010', '11011010', '11001110', '10110101', '10100010', '11110100', '11111111', '11111110', '11111110', '11111110', '11111110']\n"
          ]
        }
      ]
    },
    {
      "cell_type": "code",
      "source": [],
      "metadata": {
        "colab": {
          "base_uri": "https://localhost:8080/"
        },
        "id": "7AdM8Q8a9-ru",
        "outputId": "5aee4587-8990-47d5-9f81-5c17e130edef"
      },
      "execution_count": null,
      "outputs": [
        {
          "output_type": "stream",
          "name": "stdout",
          "text": [
            "[[255. 255. 255. 255. 255. 255. 255. 255. 255. 255. 255. 255. 255. 255.\n",
            "  255. 255. 255. 255. 255. 255. 255. 255. 255. 255. 255. 255. 255. 255.]\n",
            " [255. 255. 255. 255. 255. 255. 255. 255. 255. 240. 216. 233. 254. 255.\n",
            "  255. 255. 255. 255. 255. 255. 255. 255. 255. 255. 255. 255. 255. 255.]\n",
            " [255. 255. 255. 255. 255. 255. 255. 255. 245. 160. 107. 117. 227. 235.\n",
            "  234. 252. 255. 255. 255. 255. 255. 255. 255. 255. 255. 255. 255. 255.]\n",
            " [255. 255. 255. 255. 255. 255. 254. 255. 229. 146. 117.  87. 127.  92.\n",
            "   96. 206. 255. 255. 255. 255. 255. 255. 255. 255. 255. 255. 255. 255.]\n",
            " [255. 255. 255. 255. 254. 221. 165. 171. 197. 150. 124.  88.  60.  48.\n",
            "   73. 137. 249. 255. 255. 255. 255. 255. 255. 255. 255. 255. 255. 255.]\n",
            " [255. 255. 255. 255. 246. 154. 101.  69.  86. 144. 128.  86.  61.  47.\n",
            "   88.  94. 148. 190. 249. 255. 255. 255. 255. 255. 255. 255. 255. 255.]\n",
            " [255. 255. 255. 255. 245. 160. 116.  74.  67. 137. 132.  90.  66.  46.\n",
            "   95.  82.  71.  78. 165. 251. 255. 255. 255. 255. 255. 255. 255. 255.]\n",
            " [255. 255. 255. 255. 252. 181. 126.  82.  65. 131. 135.  94.  70.  49.\n",
            "   99.  86.  74.  67.  98. 227. 255. 255. 255. 255. 255. 255. 255. 255.]\n",
            " [255. 255. 255. 255. 255. 208. 135.  92.  64. 120. 137.  98.  73.  58.\n",
            "   99.  89.  76.  64.  79. 197. 255. 255. 255. 255. 255. 255. 255. 255.]\n",
            " [255. 255. 255. 255. 255. 229. 146.  97.  68. 114. 137. 100.  74.  70.\n",
            "  110.  96.  76.  66.  74. 165. 254. 255. 255. 255. 255. 255. 255. 255.]\n",
            " [255. 255. 255. 255. 255. 240. 154. 104.  81. 121. 137. 112.  75.  81.\n",
            "  126. 107.  77.  75.  89. 126. 245. 255. 255. 255. 255. 255. 255. 255.]\n",
            " [255. 255. 255. 255. 255. 238. 153. 118.  90. 122. 139. 126.  83.  94.\n",
            "  130. 109.  76.  92. 104. 102. 228. 255. 254. 255. 255. 255. 255. 255.]\n",
            " [255. 255. 255. 255. 255. 239. 155. 137. 105. 116. 137. 132.  97. 103.\n",
            "  125. 101.  79. 105. 105.  94. 219. 255. 254. 255. 254. 254. 254. 255.]\n",
            " [255. 255. 255. 255. 255. 247. 170. 147. 127. 119. 136. 139. 111. 109.\n",
            "  125.  99.  89. 112. 102.  93. 218. 254. 254. 254. 254. 254. 254. 254.]\n",
            " [255. 255. 255. 255. 255. 252. 188. 151. 139. 124. 134. 143. 122. 110.\n",
            "  122. 100.  96. 111.  92.  97. 224. 254. 254. 254. 254. 254. 254. 254.]\n",
            " [255. 255. 255. 255. 255. 255. 210. 156. 148. 129. 129. 142. 129. 111.\n",
            "  119. 102. 100. 102.  84. 122. 243. 254. 254. 254. 254. 254. 254. 254.]\n",
            " [255. 255. 255. 255. 255. 255. 235. 166. 151. 137. 127. 140. 135. 114.\n",
            "  116. 103. 101.  90.  82. 165. 253. 254. 254. 254. 254. 254. 254. 254.]\n",
            " [255. 255. 255. 255. 255. 255. 250. 183. 154. 148. 134. 142. 138. 120.\n",
            "  119. 104.  97.  84.  85. 191. 254. 254. 254. 254. 254. 254. 254. 254.]\n",
            " [255. 255. 255. 255. 255. 255. 254. 202. 156. 149. 142. 140. 141. 126.\n",
            "  123. 108.  93.  82.  90. 210. 254. 254. 254. 254. 254. 254. 254. 254.]\n",
            " [255. 255. 255. 255. 255. 255. 255. 224. 158. 148. 147. 142. 144. 131.\n",
            "  126. 113.  92.  81. 104. 231. 254. 254. 254. 254. 254. 254. 254. 254.]\n",
            " [255. 255. 255. 255. 255. 255. 255. 244. 170. 147. 148. 145. 147. 136.\n",
            "  130. 119.  94.  80. 120. 243. 254. 254. 254. 254. 254. 254. 254. 254.]\n",
            " [255. 255. 255. 255. 255. 255. 255. 254. 206. 149. 146. 145. 147. 138.\n",
            "  131. 121.  96.  81. 122. 245. 254. 254. 254. 254. 254. 254. 254. 254.]\n",
            " [255. 255. 255. 255. 255. 255. 255. 255. 243. 166. 146. 146. 146. 140.\n",
            "  130. 117. 100.  84. 107. 234. 254. 254. 254. 254. 254. 254. 254. 254.]\n",
            " [255. 255. 255. 255. 255. 255. 255. 255. 254. 193. 149. 148. 145. 139.\n",
            "  130. 123. 109.  93.  87. 195. 254. 254. 254. 254. 254. 254. 254. 254.]\n",
            " [255. 255. 255. 255. 255. 255. 255. 255. 255. 199. 151. 148. 142. 136.\n",
            "  134. 128. 122. 111.  92. 127. 243. 254. 254. 254. 254. 254. 254. 254.]\n",
            " [255. 255. 255. 255. 255. 255. 255. 255. 254. 187. 147. 144. 138. 133.\n",
            "  131. 128. 125. 121. 106.  97. 221. 254. 254. 254. 254. 254. 254. 254.]\n",
            " [255. 255. 255. 255. 255. 255. 255. 255. 253. 183. 144. 142. 136. 132.\n",
            "  131. 126. 124. 122. 110.  91. 203. 254. 254. 254. 254. 254. 254. 254.]\n",
            " [255. 255. 255. 255. 255. 255. 255. 255. 254. 188. 147. 143. 137. 133.\n",
            "  133. 126. 126. 124. 110.  87. 184. 254. 254. 254. 254. 254. 254. 254.]]\n"
          ]
        }
      ]
    },
    {
      "cell_type": "code",
      "source": [],
      "metadata": {
        "id": "wI6Eb5mLCoXp"
      },
      "execution_count": null,
      "outputs": []
    },
    {
      "cell_type": "code",
      "source": [],
      "metadata": {
        "colab": {
          "base_uri": "https://localhost:8080/"
        },
        "id": "OeoXKpr_991f",
        "outputId": "9a59ae78-350f-49d0-e835-4a6c76539ffa"
      },
      "execution_count": null,
      "outputs": [
        {
          "output_type": "stream",
          "name": "stdout",
          "text": [
            "['11111111', '11111111', '11111111', '11111111', '11111111', '11111111', '11111111', '11111111', '11111111', '11111111', '11111111', '11111111', '11111111', '11111111', '11111111', '11111111', '11111111', '11111111', '11111111', '11111111', '11111111', '11111111', '11111111', '11111111', '11111111', '11111111', '11111111', '11111111', '11111111', '11111111', '11111111', '11111111', '11111111', '11111111', '11111111', '11111111', '11111111', '11110000', '11011000', '11101001', '11111110', '11111111', '11111111', '11111111', '11111111', '11111111', '11111111', '11111111', '11111111', '11111111', '11111111', '11111111', '11111111', '11111111', '11111111', '11111111', '11111111', '11111111', '11111111', '11111111', '11111111', '11111111', '11111111', '11111111', '11110101', '10100000', '1101011', '1110101', '11100011', '11101011', '11101010', '11111100', '11111111', '11111111', '11111111', '11111111', '11111111', '11111111', '11111111', '11111111', '11111111', '11111111', '11111111', '11111111', '11111111', '11111111', '11111111', '11111111', '11111111', '11111111', '11111110', '11111111', '11100101', '10010010', '1110101', '1010111', '1111111', '1011100', '1100000', '11001110', '11111111', '11111111', '11111111', '11111111', '11111111', '11111111', '11111111', '11111111', '11111111', '11111111', '11111111', '11111111', '11111111', '11111111', '11111111', '11111111', '11111110', '11011101', '10100101', '10101011', '11000101', '10010110', '1111100', '1011000', '111100', '110000', '1001001', '10001001', '11111001', '11111111', '11111111', '11111111', '11111111', '11111111', '11111111', '11111111', '11111111', '11111111', '11111111', '11111111', '11111111', '11111111', '11111111', '11111111', '11110110', '10011010', '1100101', '1000101', '1010110', '10010000', '10000000', '1010110', '111101', '101111', '1011000', '1011110', '10010100', '10111110', '11111001', '11111111', '11111111', '11111111', '11111111', '11111111', '11111111', '11111111', '11111111', '11111111', '11111111', '11111111', '11111111', '11111111', '11110101', '10100000', '1110100', '1001010', '1000011', '10001001', '10000100', '1011010', '1000010', '101110', '1011111', '1010010', '1000111', '1001110', '10100101', '11111011', '11111111', '11111111', '11111111', '11111111', '11111111', '11111111', '11111111', '11111111', '11111111', '11111111', '11111111', '11111111', '11111100', '10110101', '1111110', '1010010', '1000001', '10000011', '10000111', '1011110', '1000110', '110001', '1100011', '1010110', '1001010', '1000011', '1100010', '11100011', '11111111', '11111111', '11111111', '11111111', '11111111', '11111111', '11111111', '11111111', '11111111', '11111111', '11111111', '11111111', '11111111', '11010000', '10000111', '1011100', '1000000', '1111000', '10001001', '1100010', '1001001', '111010', '1100011', '1011001', '1001100', '1000000', '1001111', '11000101', '11111111', '11111111', '11111111', '11111111', '11111111', '11111111', '11111111', '11111111', '11111111', '11111111', '11111111', '11111111', '11111111', '11100101', '10010010', '1100001', '1000100', '1110010', '10001001', '1100100', '1001010', '1000110', '1101110', '1100000', '1001100', '1000010', '1001010', '10100101', '11111110', '11111111', '11111111', '11111111', '11111111', '11111111', '11111111', '11111111', '11111111', '11111111', '11111111', '11111111', '11111111', '11110000', '10011010', '1101000', '1010001', '1111001', '10001001', '1110000', '1001011', '1010001', '1111110', '1101011', '1001101', '1001011', '1011001', '1111110', '11110101', '11111111', '11111111', '11111111', '11111111', '11111111', '11111111', '11111111', '11111111', '11111111', '11111111', '11111111', '11111111', '11101110', '10011001', '1110110', '1011010', '1111010', '10001011', '1111110', '1010011', '1011110', '10000010', '1101101', '1001100', '1011100', '1101000', '1100110', '11100100', '11111111', '11111110', '11111111', '11111111', '11111111', '11111111', '11111111', '11111111', '11111111', '11111111', '11111111', '11111111', '11101111', '10011011', '10001001', '1101001', '1110100', '10001001', '10000100', '1100001', '1100111', '1111101', '1100101', '1001111', '1101001', '1101001', '1011110', '11011011', '11111111', '11111110', '11111111', '11111110', '11111110', '11111110', '11111111', '11111111', '11111111', '11111111', '11111111', '11111111', '11110111', '10101010', '10010011', '1111111', '1110111', '10001000', '10001011', '1101111', '1101101', '1111101', '1100011', '1011001', '1110000', '1100110', '1011101', '11011010', '11111110', '11111110', '11111110', '11111110', '11111110', '11111110', '11111110', '11111111', '11111111', '11111111', '11111111', '11111111', '11111100', '10111100', '10010111', '10001011', '1111100', '10000110', '10001111', '1111010', '1101110', '1111010', '1100100', '1100000', '1101111', '1011100', '1100001', '11100000', '11111110', '11111110', '11111110', '11111110', '11111110', '11111110', '11111110', '11111111', '11111111', '11111111', '11111111', '11111111', '11111111', '11010010', '10011100', '10010100', '10000001', '10000001', '10001110', '10000001', '1101111', '1110111', '1100110', '1100100', '1100110', '1010100', '1111010', '11110011', '11111110', '11111110', '11111110', '11111110', '11111110', '11111110', '11111110', '11111111', '11111111', '11111111', '11111111', '11111111', '11111111', '11101011', '10100110', '10010111', '10001001', '1111111', '10001100', '10000111', '1110010', '1110100', '1100111', '1100101', '1011010', '1010010', '10100101', '11111101', '11111110', '11111110', '11111110', '11111110', '11111110', '11111110', '11111110', '11111111', '11111111', '11111111', '11111111', '11111111', '11111111', '11111010', '10110111', '10011010', '10010100', '10000110', '10001110', '10001010', '1111000', '1110111', '1101000', '1100001', '1010100', '1010101', '10111111', '11111110', '11111110', '11111110', '11111110', '11111110', '11111110', '11111110', '11111110', '11111111', '11111111', '11111111', '11111111', '11111111', '11111111', '11111110', '11001010', '10011100', '10010101', '10001110', '10001100', '10001101', '1111110', '1111011', '1101100', '1011101', '1010010', '1011010', '11010010', '11111110', '11111110', '11111110', '11111110', '11111110', '11111110', '11111110', '11111110', '11111111', '11111111', '11111111', '11111111', '11111111', '11111111', '11111111', '11100000', '10011110', '10010100', '10010011', '10001110', '10010000', '10000011', '1111110', '1110001', '1011100', '1010001', '1101000', '11100111', '11111110', '11111110', '11111110', '11111110', '11111110', '11111110', '11111110', '11111110', '11111111', '11111111', '11111111', '11111111', '11111111', '11111111', '11111111', '11110100', '10101010', '10010011', '10010100', '10010001', '10010011', '10001000', '10000010', '1110111', '1011110', '1010000', '1111000', '11110011', '11111110', '11111110', '11111110', '11111110', '11111110', '11111110', '11111110', '11111110', '11111111', '11111111', '11111111', '11111111', '11111111', '11111111', '11111111', '11111110', '11001110', '10010101', '10010010', '10010001', '10010011', '10001010', '10000011', '1111001', '1100000', '1010001', '1111010', '11110101', '11111110', '11111110', '11111110', '11111110', '11111110', '11111110', '11111110', '11111110', '11111111', '11111111', '11111111', '11111111', '11111111', '11111111', '11111111', '11111111', '11110011', '10100110', '10010010', '10010010', '10010010', '10001100', '10000010', '1110101', '1100100', '1010100', '1101011', '11101010', '11111110', '11111110', '11111110', '11111110', '11111110', '11111110', '11111110', '11111110', '11111111', '11111111', '11111111', '11111111', '11111111', '11111111', '11111111', '11111111', '11111110', '11000001', '10010101', '10010100', '10010001', '10001011', '10000010', '1111011', '1101101', '1011101', '1010111', '11000011', '11111110', '11111110', '11111110', '11111110', '11111110', '11111110', '11111110', '11111110', '11111111', '11111111', '11111111', '11111111', '11111111', '11111111', '11111111', '11111111', '11111111', '11000111', '10010111', '10010100', '10001110', '10001000', '10000110', '10000000', '1111010', '1101111', '1011100', '1111111', '11110011', '11111110', '11111110', '11111110', '11111110', '11111110', '11111110', '11111110', '11111111', '11111111', '11111111', '11111111', '11111111', '11111111', '11111111', '11111111', '11111110', '10111011', '10010011', '10010000', '10001010', '10000101', '10000011', '10000000', '1111101', '1111001', '1101010', '1100001', '11011101', '11111110', '11111110', '11111110', '11111110', '11111110', '11111110', '11111110', '11111111', '11111111', '11111111', '11111111', '11111111', '11111111', '11111111', '11111111', '11111101', '10110111', '10010000', '10001110', '10001000', '10000100', '10000011', '1111110', '1111100', '1111010', '1101110', '1011011', '11001011', '11111110', '11111110', '11111110', '11111110', '11111110', '11111110', '11111110', '11111111', '11111111', '11111111', '11111111', '11111111', '11111111', '11111111', '11111111', '11111110', '10111100', '10010011', '10001111', '10001001', '10000101', '10000101', '1111110', '1111110', '1111100', '1101110', '1010111', '10111000', '11111110', '11111110', '11111110', '11111110', '11111110', '11111110', '11111110']\n"
          ]
        }
      ]
    },
    {
      "cell_type": "code",
      "source": [
        "torch.save(net.state_dict(), \"cnn\")"
      ],
      "metadata": {
        "id": "ESgQvNp04ek9"
      },
      "execution_count": null,
      "outputs": []
    },
    {
      "cell_type": "code",
      "source": [
        "class MiniLeNet(nn.Module):\n",
        "    def __init__(self, init_weights):\n",
        "        super(MiniLeNet, self).__init__()\n",
        "        self.conv1 = nn.Conv2d(1, 3, kernel_size=3)\n",
        "        self.pool1 = nn.MaxPool2d(kernel_size=2, stride=2)\n",
        "        self.conv2 = nn.Conv2d(3, 3, kernel_size=3)\n",
        "        self.pool2 = nn.MaxPool2d(kernel_size=2, stride=2, ceil_mode=False)\n",
        "        self.fc = nn.Linear(75, 3)\n",
        "        if init_weights:\n",
        "            self._initialize_weights()\n",
        "\n",
        "    def _initialize_weights(self):\n",
        "        for m in self.modules():  # Returns an iterator over all modules in the network.\n",
        "            if isinstance(m, nn.Conv2d):\n",
        "                nn.init.kaiming_normal_(m.weight, mode='fan_out', nonlinearity='relu') # 对卷积权重W初始化\n",
        "                if m.bias is not None:\n",
        "                    nn.init.constant_(m.bias, 0)\n",
        "            elif isinstance(m, nn.Linear):\n",
        "                nn.init.normal_(m.weight, 0, 0.01)  # 正态分布对W赋值\n",
        "                nn.init.constant_(m.bias, 0)\n",
        "\n",
        "    def forward(self, x):\n",
        "        x = self.conv1(x)  # input(1, 28, 28) output(3, 26, 26)\n",
        "        x = F.relu(x)\n",
        "        x = self.pool1(x)          # output(3, 13, 13)\n",
        "        x = self.conv2(x)  # output(3, 11, 11)\n",
        "        x = F.relu(x)\n",
        "        x = self.pool2(x)          # output(16, 5, 5)\n",
        "        x = x.view(-1, 75)     # output(256)\n",
        "        # conv1_result = x.cpu().detach().numpy().round()\n",
        "        # print(conv1_result)\n",
        "        x = self.fc(x)   # output(120)\n",
        "\n",
        "        return x\n"
      ],
      "metadata": {
        "id": "7LD3Io-OFtD7"
      },
      "execution_count": null,
      "outputs": []
    },
    {
      "cell_type": "code",
      "source": [
        "model = MiniLeNet(True)\n",
        "model.load_state_dict(torch.load(\"cnn\"))\n",
        "model.eval()"
      ],
      "metadata": {
        "colab": {
          "base_uri": "https://localhost:8080/"
        },
        "id": "9odH68GA4mfI",
        "outputId": "44a397bc-bfd2-45ac-ce3c-161774b3765f"
      },
      "execution_count": null,
      "outputs": [
        {
          "output_type": "execute_result",
          "data": {
            "text/plain": [
              "MiniLeNet(\n",
              "  (conv1): Conv2d(1, 3, kernel_size=(3, 3), stride=(1, 1))\n",
              "  (pool1): MaxPool2d(kernel_size=2, stride=2, padding=0, dilation=1, ceil_mode=False)\n",
              "  (conv2): Conv2d(3, 3, kernel_size=(3, 3), stride=(1, 1))\n",
              "  (pool2): MaxPool2d(kernel_size=2, stride=2, padding=0, dilation=1, ceil_mode=False)\n",
              "  (fc): Linear(in_features=75, out_features=3, bias=True)\n",
              ")"
            ]
          },
          "metadata": {},
          "execution_count": 122
        }
      ]
    }
  ]
}
